{
 "cells": [
  {
   "cell_type": "markdown",
   "id": "d0e83b2d",
   "metadata": {},
   "source": [
    "## HomeExchange Subscriptions cleaning and data exploration"
   ]
  },
  {
   "cell_type": "markdown",
   "id": "59ea6684",
   "metadata": {},
   "source": [
    "## Overview\n"
   ]
  },
  {
   "cell_type": "markdown",
   "id": "0b33dc54",
   "metadata": {},
   "source": [
    "## Objectives"
   ]
  },
  {
   "cell_type": "markdown",
   "id": "aaa31ead",
   "metadata": {},
   "source": [
    "## Steps"
   ]
  },
  {
   "cell_type": "code",
   "execution_count": null,
   "id": "66227d31",
   "metadata": {},
   "outputs": [],
   "source": []
  },
  {
   "cell_type": "code",
   "execution_count": null,
   "id": "0f74a41c",
   "metadata": {},
   "outputs": [],
   "source": [
    "import pandas as pd\n",
    "import numpy as np\n",
    "import seaborn as sns\n",
    "import matplotlib.pyplot as plt\n",
    "import plotly.express as px\n",
    "import os\n",
    "import glob"
   ]
  },
  {
   "cell_type": "markdown",
   "id": "e132e718",
   "metadata": {},
   "source": [
    "#### The dataset "
   ]
  },
  {
   "cell_type": "code",
   "execution_count": null,
   "id": "1ac90d21",
   "metadata": {},
   "outputs": [],
   "source": [
    "subscriptions = pd.read_csv(r\"C:\\Users\\imane\\OneDrive\\Desktop\\home_exchange\\HomeExchange\\data\\subscriptions.csv\")\n",
    "subscriptions.head()"
   ]
  },
  {
   "cell_type": "markdown",
   "id": "311e5168",
   "metadata": {},
   "source": [
    "#### Checking for null values "
   ]
  },
  {
   "cell_type": "code",
   "execution_count": null,
   "id": "5258c893",
   "metadata": {},
   "outputs": [],
   "source": [
    "subscriptions.info()"
   ]
  },
  {
   "cell_type": "code",
   "execution_count": null,
   "id": "2d453965",
   "metadata": {},
   "outputs": [],
   "source": [
    "subscriptions.isnull().sum()"
   ]
  },
  {
   "cell_type": "code",
   "execution_count": null,
   "id": "68cf84b9",
   "metadata": {},
   "outputs": [],
   "source": [
    "subscriptions.duplicated().sum()"
   ]
  },
  {
   "cell_type": "markdown",
   "id": "c90cd500",
   "metadata": {},
   "source": [
    "#### Changing data types "
   ]
  },
  {
   "cell_type": "code",
   "execution_count": null,
   "id": "a85afe10",
   "metadata": {},
   "outputs": [],
   "source": [
    "subscriptions[\"subscription_date\"] = pd.to_datetime(subscriptions[\"subscription_date\"])\n",
    "subscriptions[\"first_subscription_date\"] = pd.to_datetime(subscriptions[\"first_subscription_date\"])"
   ]
  },
  {
   "cell_type": "markdown",
   "id": "bf090acf",
   "metadata": {},
   "source": [
    "#### Grouping the dataframe "
   ]
  },
  {
   "cell_type": "code",
   "execution_count": null,
   "id": "ee757f37",
   "metadata": {},
   "outputs": [],
   "source": [
    "sub_grouped = subscriptions.groupby(\"user_id\").agg({'subscription_date': ['min','max',\"count\"],\n",
    "                                                   \"renew\":\"last\", \"first_subscription_date\":\"first\",\n",
    "                                                   \"first_subscription\":\"last\",\"referral\":\"first\",\n",
    "                                                   \"promotion\":\"first\",\"payment3x\":\"first\",\n",
    "                                                   \"payment2\":\"last\",\"payment3\":\"last\"})"
   ]
  },
  {
   "cell_type": "code",
   "execution_count": null,
   "id": "9070c06b",
   "metadata": {},
   "outputs": [],
   "source": [
    "sub_grouped = sub_grouped.reset_index()"
   ]
  },
  {
   "cell_type": "code",
   "execution_count": null,
   "id": "d5b52227",
   "metadata": {},
   "outputs": [],
   "source": [
    "sub_grouped.columns = sub_grouped.columns.map('_'.join)"
   ]
  },
  {
   "cell_type": "code",
   "execution_count": null,
   "id": "cd61f73a",
   "metadata": {},
   "outputs": [],
   "source": [
    "sub_grouped.columns"
   ]
  },
  {
   "cell_type": "markdown",
   "id": "9bcee547",
   "metadata": {},
   "source": [
    "#### Histograms "
   ]
  },
  {
   "cell_type": "code",
   "execution_count": null,
   "id": "26311b77",
   "metadata": {},
   "outputs": [],
   "source": [
    "hist1 = px.histogram(sub_grouped, x = \"renew_last\", range_x = (0,1))\n",
    "hist1.show()"
   ]
  },
  {
   "cell_type": "code",
   "execution_count": null,
   "id": "baed35b6",
   "metadata": {},
   "outputs": [],
   "source": [
    "hist2 = px.histogram(sub_grouped, x = \"first_subscription_last\", range_x = (0,1))\n",
    "hist2.show()"
   ]
  },
  {
   "cell_type": "code",
   "execution_count": null,
   "id": "3066ff11",
   "metadata": {},
   "outputs": [],
   "source": [
    "hist3 = px.histogram(sub_grouped, x = \"referral_first\", range_x = (0,1))\n",
    "hist3.show()"
   ]
  },
  {
   "cell_type": "code",
   "execution_count": null,
   "id": "42be04a1",
   "metadata": {},
   "outputs": [],
   "source": [
    "hist4 = px.histogram(sub_grouped, x = \"promotion_first\", range_x = (0,1))\n",
    "hist4.show()"
   ]
  },
  {
   "cell_type": "code",
   "execution_count": null,
   "id": "afcf9ddd",
   "metadata": {},
   "outputs": [],
   "source": [
    "hist5 = px.histogram(sub_grouped, x = \"payment3x_first\", range_x = (0,1))\n",
    "hist5.show()"
   ]
  },
  {
   "cell_type": "code",
   "execution_count": null,
   "id": "fad94f16",
   "metadata": {},
   "outputs": [],
   "source": [
    "hist6 = px.histogram(sub_grouped, x = \"payment2_last\", range_x = (0,1))\n",
    "hist6.show()"
   ]
  },
  {
   "cell_type": "code",
   "execution_count": null,
   "id": "8a9feb94",
   "metadata": {},
   "outputs": [],
   "source": [
    "hist7 = px.histogram(sub_grouped, x = \"payment3_last\", range_x = (0,1))\n",
    "hist7.show()"
   ]
  },
  {
   "cell_type": "markdown",
   "id": "07dd544c",
   "metadata": {},
   "source": [
    "#### Descriptive statistics "
   ]
  },
  {
   "cell_type": "code",
   "execution_count": null,
   "id": "7ba0abfa",
   "metadata": {},
   "outputs": [],
   "source": [
    "sub_grouped[['renew_last',\n",
    "        'first_subscription_last',\n",
    "       'referral_first', 'promotion_first', 'payment3x_first', 'payment2_last',\n",
    "       'payment3_last']].describe()"
   ]
  },
  {
   "cell_type": "code",
   "execution_count": null,
   "id": "e697a4f3",
   "metadata": {},
   "outputs": [],
   "source": []
  },
  {
   "cell_type": "code",
   "execution_count": null,
   "id": "924ecf94",
   "metadata": {},
   "outputs": [],
   "source": []
  }
 ],
 "metadata": {
  "kernelspec": {
   "display_name": "Python 3 (ipykernel)",
   "language": "python",
   "name": "python3"
  },
  "language_info": {
   "codemirror_mode": {
    "name": "ipython",
    "version": 3
   },
   "file_extension": ".py",
   "mimetype": "text/x-python",
   "name": "python",
   "nbconvert_exporter": "python",
   "pygments_lexer": "ipython3",
   "version": "3.10.9"
  }
 },
 "nbformat": 4,
 "nbformat_minor": 5
}
