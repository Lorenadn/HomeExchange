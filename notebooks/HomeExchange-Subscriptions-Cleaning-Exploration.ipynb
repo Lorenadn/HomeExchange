{
 "cells": [
  {
   "cell_type": "markdown",
   "id": "d0e83b2d",
   "metadata": {},
   "source": [
    "## HomeExchange Subscriptions cleaning and data exploration"
   ]
  },
  {
   "cell_type": "markdown",
   "id": "59ea6684",
   "metadata": {},
   "source": [
    "## Overview\n"
   ]
  },
  {
   "cell_type": "markdown",
   "id": "0b33dc54",
   "metadata": {},
   "source": [
    "## Objectives"
   ]
  },
  {
   "cell_type": "markdown",
   "id": "aaa31ead",
   "metadata": {},
   "source": [
    "## Steps"
   ]
  },
  {
   "cell_type": "code",
   "execution_count": null,
   "id": "66227d31",
   "metadata": {},
   "outputs": [],
   "source": []
  },
  {
   "cell_type": "code",
   "execution_count": 1,
   "id": "0f74a41c",
   "metadata": {},
   "outputs": [],
   "source": [
    "import pandas as pd\n",
    "import numpy as np\n",
    "import seaborn as sns\n",
    "import matplotlib.pyplot as plt\n",
    "import plotly.express as px\n",
    "import os\n",
    "import glob"
   ]
  },
  {
   "cell_type": "markdown",
   "id": "e132e718",
   "metadata": {},
   "source": [
    "#### The dataset "
   ]
  },
  {
   "cell_type": "code",
   "execution_count": 2,
   "id": "1ac90d21",
   "metadata": {},
   "outputs": [
    {
     "data": {
      "text/html": [
       "<div>\n",
       "<style scoped>\n",
       "    .dataframe tbody tr th:only-of-type {\n",
       "        vertical-align: middle;\n",
       "    }\n",
       "\n",
       "    .dataframe tbody tr th {\n",
       "        vertical-align: top;\n",
       "    }\n",
       "\n",
       "    .dataframe thead th {\n",
       "        text-align: right;\n",
       "    }\n",
       "</style>\n",
       "<table border=\"1\" class=\"dataframe\">\n",
       "  <thead>\n",
       "    <tr style=\"text-align: right;\">\n",
       "      <th></th>\n",
       "      <th>subscription_date</th>\n",
       "      <th>user_id</th>\n",
       "      <th>renew</th>\n",
       "      <th>first_subscription_date</th>\n",
       "      <th>first_subscription</th>\n",
       "      <th>referral</th>\n",
       "      <th>promotion</th>\n",
       "      <th>payment3x</th>\n",
       "      <th>payment2</th>\n",
       "      <th>payment3</th>\n",
       "      <th>diff_year</th>\n",
       "    </tr>\n",
       "  </thead>\n",
       "  <tbody>\n",
       "    <tr>\n",
       "      <th>0</th>\n",
       "      <td>2019-01-01</td>\n",
       "      <td>2062530</td>\n",
       "      <td>1</td>\n",
       "      <td>2018-01-01</td>\n",
       "      <td>0</td>\n",
       "      <td>0</td>\n",
       "      <td>0</td>\n",
       "      <td>0</td>\n",
       "      <td>0</td>\n",
       "      <td>0</td>\n",
       "      <td>1</td>\n",
       "    </tr>\n",
       "    <tr>\n",
       "      <th>1</th>\n",
       "      <td>2019-01-02</td>\n",
       "      <td>1177188</td>\n",
       "      <td>1</td>\n",
       "      <td>2007-04-14</td>\n",
       "      <td>0</td>\n",
       "      <td>0</td>\n",
       "      <td>0</td>\n",
       "      <td>0</td>\n",
       "      <td>0</td>\n",
       "      <td>0</td>\n",
       "      <td>12</td>\n",
       "    </tr>\n",
       "    <tr>\n",
       "      <th>2</th>\n",
       "      <td>2019-01-03</td>\n",
       "      <td>2803569</td>\n",
       "      <td>0</td>\n",
       "      <td>2018-01-07</td>\n",
       "      <td>0</td>\n",
       "      <td>0</td>\n",
       "      <td>0</td>\n",
       "      <td>0</td>\n",
       "      <td>0</td>\n",
       "      <td>0</td>\n",
       "      <td>1</td>\n",
       "    </tr>\n",
       "    <tr>\n",
       "      <th>3</th>\n",
       "      <td>2019-01-03</td>\n",
       "      <td>2656379</td>\n",
       "      <td>1</td>\n",
       "      <td>2018-01-03</td>\n",
       "      <td>0</td>\n",
       "      <td>0</td>\n",
       "      <td>0</td>\n",
       "      <td>0</td>\n",
       "      <td>0</td>\n",
       "      <td>0</td>\n",
       "      <td>1</td>\n",
       "    </tr>\n",
       "    <tr>\n",
       "      <th>4</th>\n",
       "      <td>2019-01-05</td>\n",
       "      <td>2252650</td>\n",
       "      <td>0</td>\n",
       "      <td>2014-05-01</td>\n",
       "      <td>0</td>\n",
       "      <td>0</td>\n",
       "      <td>0</td>\n",
       "      <td>0</td>\n",
       "      <td>0</td>\n",
       "      <td>0</td>\n",
       "      <td>5</td>\n",
       "    </tr>\n",
       "  </tbody>\n",
       "</table>\n",
       "</div>"
      ],
      "text/plain": [
       "  subscription_date  user_id  renew first_subscription_date  \\\n",
       "0        2019-01-01  2062530      1              2018-01-01   \n",
       "1        2019-01-02  1177188      1              2007-04-14   \n",
       "2        2019-01-03  2803569      0              2018-01-07   \n",
       "3        2019-01-03  2656379      1              2018-01-03   \n",
       "4        2019-01-05  2252650      0              2014-05-01   \n",
       "\n",
       "   first_subscription  referral  promotion  payment3x  payment2  payment3  \\\n",
       "0                   0         0          0          0         0         0   \n",
       "1                   0         0          0          0         0         0   \n",
       "2                   0         0          0          0         0         0   \n",
       "3                   0         0          0          0         0         0   \n",
       "4                   0         0          0          0         0         0   \n",
       "\n",
       "   diff_year  \n",
       "0          1  \n",
       "1         12  \n",
       "2          1  \n",
       "3          1  \n",
       "4          5  "
      ]
     },
     "execution_count": 2,
     "metadata": {},
     "output_type": "execute_result"
    }
   ],
   "source": [
    "subscriptions = pd.read_csv(r\"C:\\Users\\imane\\OneDrive\\Desktop\\home_exchange\\HomeExchange\\data\\subscriptions.csv\")\n",
    "subscriptions.head()"
   ]
  },
  {
   "cell_type": "markdown",
   "id": "311e5168",
   "metadata": {},
   "source": [
    "#### Checking for null values "
   ]
  },
  {
   "cell_type": "code",
   "execution_count": 3,
   "id": "5258c893",
   "metadata": {},
   "outputs": [
    {
     "name": "stdout",
     "output_type": "stream",
     "text": [
      "<class 'pandas.core.frame.DataFrame'>\n",
      "RangeIndex: 99702 entries, 0 to 99701\n",
      "Data columns (total 11 columns):\n",
      " #   Column                   Non-Null Count  Dtype \n",
      "---  ------                   --------------  ----- \n",
      " 0   subscription_date        99702 non-null  object\n",
      " 1   user_id                  99702 non-null  int64 \n",
      " 2   renew                    99702 non-null  int64 \n",
      " 3   first_subscription_date  99702 non-null  object\n",
      " 4   first_subscription       99702 non-null  int64 \n",
      " 5   referral                 99702 non-null  int64 \n",
      " 6   promotion                99702 non-null  int64 \n",
      " 7   payment3x                99702 non-null  int64 \n",
      " 8   payment2                 99702 non-null  int64 \n",
      " 9   payment3                 99702 non-null  int64 \n",
      " 10  diff_year                99702 non-null  int64 \n",
      "dtypes: int64(9), object(2)\n",
      "memory usage: 8.4+ MB\n"
     ]
    }
   ],
   "source": [
    "subscriptions.info()"
   ]
  },
  {
   "cell_type": "code",
   "execution_count": 4,
   "id": "2d453965",
   "metadata": {},
   "outputs": [
    {
     "data": {
      "text/plain": [
       "subscription_date          0\n",
       "user_id                    0\n",
       "renew                      0\n",
       "first_subscription_date    0\n",
       "first_subscription         0\n",
       "referral                   0\n",
       "promotion                  0\n",
       "payment3x                  0\n",
       "payment2                   0\n",
       "payment3                   0\n",
       "diff_year                  0\n",
       "dtype: int64"
      ]
     },
     "execution_count": 4,
     "metadata": {},
     "output_type": "execute_result"
    }
   ],
   "source": [
    "subscriptions.isnull().sum()"
   ]
  },
  {
   "cell_type": "code",
   "execution_count": 5,
   "id": "68cf84b9",
   "metadata": {},
   "outputs": [
    {
     "data": {
      "text/plain": [
       "0"
      ]
     },
     "execution_count": 5,
     "metadata": {},
     "output_type": "execute_result"
    }
   ],
   "source": [
    "subscriptions.duplicated().sum()"
   ]
  },
  {
   "cell_type": "markdown",
   "id": "c90cd500",
   "metadata": {},
   "source": [
    "#### Changing data types "
   ]
  },
  {
   "cell_type": "code",
   "execution_count": 6,
   "id": "a85afe10",
   "metadata": {},
   "outputs": [],
   "source": [
    "subscriptions[\"subscription_date\"] = pd.to_datetime(subscriptions[\"subscription_date\"])\n",
    "subscriptions[\"first_subscription_date\"] = pd.to_datetime(subscriptions[\"first_subscription_date\"])"
   ]
  },
  {
   "cell_type": "markdown",
   "id": "bf090acf",
   "metadata": {},
   "source": [
    "#### Grouping the dataframe "
   ]
  },
  {
   "cell_type": "code",
   "execution_count": 7,
   "id": "ee757f37",
   "metadata": {},
   "outputs": [],
   "source": [
    "sub_grouped = subscriptions.groupby(\"user_id\").agg({'subscription_date': ['min','max',\"count\"],\n",
    "                                                   \"renew\":\"last\", \"first_subscription_date\":\"first\",\n",
    "                                                   \"first_subscription\":\"last\",\"referral\":\"first\",\n",
    "                                                   \"promotion\":\"first\",\"payment3x\":\"first\",\n",
    "                                                   \"payment2\":\"last\",\"payment3\":\"last\"})"
   ]
  },
  {
   "cell_type": "code",
   "execution_count": 8,
   "id": "9070c06b",
   "metadata": {},
   "outputs": [],
   "source": [
    "sub_grouped = sub_grouped.reset_index()"
   ]
  },
  {
   "cell_type": "code",
   "execution_count": 9,
   "id": "d5b52227",
   "metadata": {},
   "outputs": [],
   "source": [
    "sub_grouped.columns = sub_grouped.columns.map('_'.join)"
   ]
  },
  {
   "cell_type": "code",
   "execution_count": 10,
   "id": "cd61f73a",
   "metadata": {},
   "outputs": [
    {
     "data": {
      "text/plain": [
       "Index(['user_id_', 'subscription_date_min', 'subscription_date_max',\n",
       "       'subscription_date_count', 'renew_last',\n",
       "       'first_subscription_date_first', 'first_subscription_last',\n",
       "       'referral_first', 'promotion_first', 'payment3x_first', 'payment2_last',\n",
       "       'payment3_last'],\n",
       "      dtype='object')"
      ]
     },
     "execution_count": 10,
     "metadata": {},
     "output_type": "execute_result"
    }
   ],
   "source": [
    "sub_grouped.columns"
   ]
  },
  {
   "cell_type": "markdown",
   "id": "9bcee547",
   "metadata": {},
   "source": [
    "#### Histograms "
   ]
  },
  {
   "cell_type": "code",
   "execution_count": 11,
   "id": "26311b77",
   "metadata": {},
   "outputs": [
    {
     "data": {
      "text/plain": [
       "<Axes: xlabel='renew_last', ylabel='Count'>"
      ]
     },
     "execution_count": 11,
     "metadata": {},
     "output_type": "execute_result"
    },
    {
     "data": {
      "image/png": "[encoded data removed]",
      "text/plain": [
       "<Figure size 640x480 with 1 Axes>"
      ]
     },
     "metadata": {},
     "output_type": "display_data"
    }
   ],
   "source": [
    "sns.histplot(sub_grouped, x = \"renew_last\")\n"
   ]
  },
  {
   "cell_type": "code",
   "execution_count": 12,
   "id": "baed35b6",
   "metadata": {},
   "outputs": [
    {
     "data": {
      "text/plain": [
       "<Axes: xlabel='first_subscription_last', ylabel='Count'>"
      ]
     },
     "execution_count": 12,
     "metadata": {},
     "output_type": "execute_result"
    },
    {
     "data": {
      "image/png": "[encoded data removed]",
      "text/plain": [
       "<Figure size 640x480 with 1 Axes>"
      ]
     },
     "metadata": {},
     "output_type": "display_data"
    }
   ],
   "source": [
    "sns.histplot(sub_grouped, x = \"first_subscription_last\")\n"
   ]
  },
  {
   "cell_type": "code",
   "execution_count": 13,
   "id": "3066ff11",
   "metadata": {},
   "outputs": [
    {
     "data": {
      "text/plain": [
       "<Axes: xlabel='referral_first', ylabel='Count'>"
      ]
     },
     "execution_count": 13,
     "metadata": {},
     "output_type": "execute_result"
    },
    {
     "data": {
      "image/png": "[encoded data removed]",
      "text/plain": [
       "<Figure size 640x480 with 1 Axes>"
      ]
     },
     "metadata": {},
     "output_type": "display_data"
    }
   ],
   "source": [
    "sns.histplot(sub_grouped, x = \"referral_first\")"
   ]
  },
  {
   "cell_type": "code",
   "execution_count": 14,
   "id": "42be04a1",
   "metadata": {},
   "outputs": [
    {
     "data": {
      "text/plain": [
       "<Axes: xlabel='promotion_first', ylabel='Count'>"
      ]
     },
     "execution_count": 14,
     "metadata": {},
     "output_type": "execute_result"
    },
    {
     "data": {
      "image/png": "[encoded data removed]",
      "text/plain": [
       "<Figure size 640x480 with 1 Axes>"
      ]
     },
     "metadata": {},
     "output_type": "display_data"
    }
   ],
   "source": [
    "sns.histplot(sub_grouped, x = \"promotion_first\")"
   ]
  },
  {
   "cell_type": "code",
   "execution_count": 15,
   "id": "afcf9ddd",
   "metadata": {},
   "outputs": [
    {
     "data": {
      "text/plain": [
       "<Axes: xlabel='payment3x_first', ylabel='Count'>"
      ]
     },
     "execution_count": 15,
     "metadata": {},
     "output_type": "execute_result"
    },
    {
     "data": {
      "image/png": "[encoded data removed]",
      "text/plain": [
       "<Figure size 640x480 with 1 Axes>"
      ]
     },
     "metadata": {},
     "output_type": "display_data"
    }
   ],
   "source": [
    "sns.histplot(sub_grouped, x = \"payment3x_first\")"
   ]
  },
  {
   "cell_type": "code",
   "execution_count": 16,
   "id": "fad94f16",
   "metadata": {},
   "outputs": [
    {
     "data": {
      "text/plain": [
       "<Axes: xlabel='payment2_last', ylabel='Count'>"
      ]
     },
     "execution_count": 16,
     "metadata": {},
     "output_type": "execute_result"
    },
    {
     "data": {
      "image/png": "[encoded data removed]",
      "text/plain": [
       "<Figure size 640x480 with 1 Axes>"
      ]
     },
     "metadata": {},
     "output_type": "display_data"
    }
   ],
   "source": [
    "sns.histplot(sub_grouped, x = \"payment2_last\")"
   ]
  },
  {
   "cell_type": "code",
   "execution_count": 17,
   "id": "8a9feb94",
   "metadata": {},
   "outputs": [
    {
     "data": {
      "text/plain": [
       "<Axes: xlabel='payment3_last', ylabel='Count'>"
      ]
     },
     "execution_count": 17,
     "metadata": {},
     "output_type": "execute_result"
    },
    {
     "data": {
      "image/png": "[encoded data removed]",
      "text/plain": [
       "<Figure size 640x480 with 1 Axes>"
      ]
     },
     "metadata": {},
     "output_type": "display_data"
    }
   ],
   "source": [
    "sns.histplot(sub_grouped, x = \"payment3_last\")"
   ]
  },
  {
   "cell_type": "markdown",
   "id": "07dd544c",
   "metadata": {},
   "source": [
    "#### Descriptive statistics "
   ]
  },
  {
   "cell_type": "code",
   "execution_count": 18,
   "id": "7ba0abfa",
   "metadata": {},
   "outputs": [
    {
     "data": {
      "text/html": [
       "<div>\n",
       "<style scoped>\n",
       "    .dataframe tbody tr th:only-of-type {\n",
       "        vertical-align: middle;\n",
       "    }\n",
       "\n",
       "    .dataframe tbody tr th {\n",
       "        vertical-align: top;\n",
       "    }\n",
       "\n",
       "    .dataframe thead th {\n",
       "        text-align: right;\n",
       "    }\n",
       "</style>\n",
       "<table border=\"1\" class=\"dataframe\">\n",
       "  <thead>\n",
       "    <tr style=\"text-align: right;\">\n",
       "      <th></th>\n",
       "      <th>renew_last</th>\n",
       "      <th>first_subscription_last</th>\n",
       "      <th>referral_first</th>\n",
       "      <th>promotion_first</th>\n",
       "      <th>payment3x_first</th>\n",
       "      <th>payment2_last</th>\n",
       "      <th>payment3_last</th>\n",
       "    </tr>\n",
       "  </thead>\n",
       "  <tbody>\n",
       "    <tr>\n",
       "      <th>count</th>\n",
       "      <td>70726.000000</td>\n",
       "      <td>70726.000000</td>\n",
       "      <td>70726.000000</td>\n",
       "      <td>70726.000000</td>\n",
       "      <td>70726.000000</td>\n",
       "      <td>70726.000000</td>\n",
       "      <td>70726.000000</td>\n",
       "    </tr>\n",
       "    <tr>\n",
       "      <th>mean</th>\n",
       "      <td>0.611515</td>\n",
       "      <td>0.327249</td>\n",
       "      <td>0.090320</td>\n",
       "      <td>0.027670</td>\n",
       "      <td>0.014422</td>\n",
       "      <td>0.013460</td>\n",
       "      <td>0.012923</td>\n",
       "    </tr>\n",
       "    <tr>\n",
       "      <th>std</th>\n",
       "      <td>0.487409</td>\n",
       "      <td>0.469212</td>\n",
       "      <td>0.286642</td>\n",
       "      <td>0.164027</td>\n",
       "      <td>0.119223</td>\n",
       "      <td>0.115236</td>\n",
       "      <td>0.112944</td>\n",
       "    </tr>\n",
       "    <tr>\n",
       "      <th>min</th>\n",
       "      <td>0.000000</td>\n",
       "      <td>0.000000</td>\n",
       "      <td>0.000000</td>\n",
       "      <td>0.000000</td>\n",
       "      <td>0.000000</td>\n",
       "      <td>0.000000</td>\n",
       "      <td>0.000000</td>\n",
       "    </tr>\n",
       "    <tr>\n",
       "      <th>25%</th>\n",
       "      <td>0.000000</td>\n",
       "      <td>0.000000</td>\n",
       "      <td>0.000000</td>\n",
       "      <td>0.000000</td>\n",
       "      <td>0.000000</td>\n",
       "      <td>0.000000</td>\n",
       "      <td>0.000000</td>\n",
       "    </tr>\n",
       "    <tr>\n",
       "      <th>50%</th>\n",
       "      <td>1.000000</td>\n",
       "      <td>0.000000</td>\n",
       "      <td>0.000000</td>\n",
       "      <td>0.000000</td>\n",
       "      <td>0.000000</td>\n",
       "      <td>0.000000</td>\n",
       "      <td>0.000000</td>\n",
       "    </tr>\n",
       "    <tr>\n",
       "      <th>75%</th>\n",
       "      <td>1.000000</td>\n",
       "      <td>1.000000</td>\n",
       "      <td>0.000000</td>\n",
       "      <td>0.000000</td>\n",
       "      <td>0.000000</td>\n",
       "      <td>0.000000</td>\n",
       "      <td>0.000000</td>\n",
       "    </tr>\n",
       "    <tr>\n",
       "      <th>max</th>\n",
       "      <td>1.000000</td>\n",
       "      <td>1.000000</td>\n",
       "      <td>1.000000</td>\n",
       "      <td>1.000000</td>\n",
       "      <td>1.000000</td>\n",
       "      <td>1.000000</td>\n",
       "      <td>1.000000</td>\n",
       "    </tr>\n",
       "  </tbody>\n",
       "</table>\n",
       "</div>"
      ],
      "text/plain": [
       "         renew_last  first_subscription_last  referral_first  promotion_first  \\\n",
       "count  70726.000000             70726.000000    70726.000000     70726.000000   \n",
       "mean       0.611515                 0.327249        0.090320         0.027670   \n",
       "std        0.487409                 0.469212        0.286642         0.164027   \n",
       "min        0.000000                 0.000000        0.000000         0.000000   \n",
       "25%        0.000000                 0.000000        0.000000         0.000000   \n",
       "50%        1.000000                 0.000000        0.000000         0.000000   \n",
       "75%        1.000000                 1.000000        0.000000         0.000000   \n",
       "max        1.000000                 1.000000        1.000000         1.000000   \n",
       "\n",
       "       payment3x_first  payment2_last  payment3_last  \n",
       "count     70726.000000   70726.000000   70726.000000  \n",
       "mean          0.014422       0.013460       0.012923  \n",
       "std           0.119223       0.115236       0.112944  \n",
       "min           0.000000       0.000000       0.000000  \n",
       "25%           0.000000       0.000000       0.000000  \n",
       "50%           0.000000       0.000000       0.000000  \n",
       "75%           0.000000       0.000000       0.000000  \n",
       "max           1.000000       1.000000       1.000000  "
      ]
     },
     "execution_count": 18,
     "metadata": {},
     "output_type": "execute_result"
    }
   ],
   "source": [
    "sub_grouped[['renew_last',\n",
    "        'first_subscription_last',\n",
    "       'referral_first', 'promotion_first', 'payment3x_first', 'payment2_last',\n",
    "       'payment3_last']].describe()"
   ]
  },
  {
   "cell_type": "code",
   "execution_count": null,
   "id": "e697a4f3",
   "metadata": {},
   "outputs": [],
   "source": []
  },
  {
   "cell_type": "code",
   "execution_count": null,
   "id": "924ecf94",
   "metadata": {},
   "outputs": [],
   "source": []
  }
 ],
 "metadata": {
  "kernelspec": {
   "display_name": "Python 3 (ipykernel)",
   "language": "python",
   "name": "python3"
  },
  "language_info": {
   "codemirror_mode": {
    "name": "ipython",
    "version": 3
   },
   "file_extension": ".py",
   "mimetype": "text/x-python",
   "name": "python",
   "nbconvert_exporter": "python",
   "pygments_lexer": "ipython3",
   "version": "3.10.9"
  }
 },
 "nbformat": 4,
 "nbformat_minor": 5
}
