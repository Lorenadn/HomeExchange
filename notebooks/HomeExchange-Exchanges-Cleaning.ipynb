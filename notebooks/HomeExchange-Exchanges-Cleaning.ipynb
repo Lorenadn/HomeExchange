{
 "cells": [
  {
   "cell_type": "markdown",
   "id": "85cfdf46",
   "metadata": {},
   "source": [
    "# HomeExchange Exchanges data cleaning\n"
   ]
  },
  {
   "cell_type": "markdown",
   "id": "a604e80d",
   "metadata": {},
   "source": [
    "## Overview"
   ]
  },
  {
   "cell_type": "markdown",
   "id": "931fa15d",
   "metadata": {},
   "source": [
    "## Objectives"
   ]
  },
  {
   "cell_type": "markdown",
   "id": "2350f4bd",
   "metadata": {},
   "source": [
    "## Steps"
   ]
  },
  {
   "cell_type": "code",
   "execution_count": null,
   "id": "fa1be08d",
   "metadata": {},
   "outputs": [],
   "source": []
  },
  {
   "cell_type": "code",
   "execution_count": null,
   "id": "809509d5",
   "metadata": {},
   "outputs": [],
   "source": []
  },
  {
   "cell_type": "code",
   "execution_count": 1,
   "id": "63ce0c25",
   "metadata": {},
   "outputs": [],
   "source": [
    "import pandas as pd\n",
    "import numpy as np\n",
    "import seaborn as sns\n",
    "import matplotlib.pyplot as plt\n",
    "import plotly.express as px\n",
    "import os\n",
    "import glob"
   ]
  },
  {
   "cell_type": "markdown",
   "id": "773a676c",
   "metadata": {},
   "source": [
    "## Exchanges"
   ]
  },
  {
   "cell_type": "markdown",
   "id": "77a495e2",
   "metadata": {},
   "source": [
    "#### Getting the datasets and concatenating them into one complete dataFrame"
   ]
  },
  {
   "cell_type": "code",
   "execution_count": 4,
   "id": "43f1e5f3",
   "metadata": {},
   "outputs": [],
   "source": [
    "path = r\"C:\\Users\\imane\\OneDrive\\Desktop\\home_exchange\\HomeExchange\\data\\exchanges\\*\"\n",
    "files = []\n",
    "for f in glob.glob(path):\n",
    "    files.append(f)"
   ]
  },
  {
   "cell_type": "code",
   "execution_count": 3,
   "id": "cbea316c",
   "metadata": {},
   "outputs": [],
   "source": [
    "dfs = []\n",
    "for f in range(len(files)):\n",
    "    df = pd.read_csv(files[f])\n",
    "    dfs.append(df)"
   ]
  },
  {
   "cell_type": "code",
   "execution_count": 4,
   "id": "076e7716",
   "metadata": {},
   "outputs": [],
   "source": [
    "exchanges = pd.concat(dfs, axis=0)"
   ]
  },
  {
   "cell_type": "code",
   "execution_count": 5,
   "id": "28d802fb",
   "metadata": {},
   "outputs": [],
   "source": [
    "exchanges.to_csv(r\"C:\\Users\\imane\\OneDrive\\Desktop\\home_exchange\\HomeExchange\\data\\Exchanges_clean.csv\")"
   ]
  },
  {
   "cell_type": "markdown",
   "id": "aa883a7c",
   "metadata": {},
   "source": [
    "#### The dataset "
   ]
  },
  {
   "cell_type": "code",
   "execution_count": 15,
   "id": "1ed57e47",
   "metadata": {},
   "outputs": [],
   "source": [
    "DATA_PATH = '../data'\n",
    "FAKE_FILENAME = 'Exchanges_clean.csv.gz'\n",
    "exchanges = pd.read_csv(os.path.join(DATA_PATH, FAKE_FILENAME),compression = \"gzip\")"
   ]
  },
  {
   "cell_type": "code",
   "execution_count": 17,
   "id": "a7e227db-e351-41ce-9de5-9ff5b2aa4798",
   "metadata": {},
   "outputs": [
    {
     "data": {
      "text/html": [
       "<div>\n",
       "<style scoped>\n",
       "    .dataframe tbody tr th:only-of-type {\n",
       "        vertical-align: middle;\n",
       "    }\n",
       "\n",
       "    .dataframe tbody tr th {\n",
       "        vertical-align: top;\n",
       "    }\n",
       "\n",
       "    .dataframe thead th {\n",
       "        text-align: right;\n",
       "    }\n",
       "</style>\n",
       "<table border=\"1\" class=\"dataframe\">\n",
       "  <thead>\n",
       "    <tr style=\"text-align: right;\">\n",
       "      <th></th>\n",
       "      <th>Unnamed: 0</th>\n",
       "      <th>conversation_id</th>\n",
       "      <th>exchange_id</th>\n",
       "      <th>created_at</th>\n",
       "      <th>creator_id</th>\n",
       "      <th>guest_user_id</th>\n",
       "      <th>host_user_id</th>\n",
       "      <th>finalized_at</th>\n",
       "      <th>canceled_at</th>\n",
       "      <th>start_on</th>\n",
       "      <th>...</th>\n",
       "      <th>night_count</th>\n",
       "      <th>exchange_type</th>\n",
       "      <th>home_type</th>\n",
       "      <th>residence_type</th>\n",
       "      <th>capacity</th>\n",
       "      <th>country</th>\n",
       "      <th>region</th>\n",
       "      <th>department</th>\n",
       "      <th>city</th>\n",
       "      <th>diff_capacity</th>\n",
       "    </tr>\n",
       "  </thead>\n",
       "  <tbody>\n",
       "    <tr>\n",
       "      <th>0</th>\n",
       "      <td>0</td>\n",
       "      <td>41311972</td>\n",
       "      <td>63399698</td>\n",
       "      <td>2021-08-22</td>\n",
       "      <td>389898</td>\n",
       "      <td>389898</td>\n",
       "      <td>3277768</td>\n",
       "      <td>NaN</td>\n",
       "      <td>NaN</td>\n",
       "      <td>NaN</td>\n",
       "      <td>...</td>\n",
       "      <td>0</td>\n",
       "      <td>NON_RECIPROCAL</td>\n",
       "      <td>Home</td>\n",
       "      <td>primary</td>\n",
       "      <td>2.0</td>\n",
       "      <td>NLD</td>\n",
       "      <td>Groningue</td>\n",
       "      <td>Het Hogeland</td>\n",
       "      <td>Onderdendam</td>\n",
       "      <td>2.0</td>\n",
       "    </tr>\n",
       "    <tr>\n",
       "      <th>1</th>\n",
       "      <td>1</td>\n",
       "      <td>43121577</td>\n",
       "      <td>65438439</td>\n",
       "      <td>2022-02-06</td>\n",
       "      <td>2191577</td>\n",
       "      <td>2191577</td>\n",
       "      <td>3609949</td>\n",
       "      <td>NaN</td>\n",
       "      <td>NaN</td>\n",
       "      <td>NaN</td>\n",
       "      <td>...</td>\n",
       "      <td>0</td>\n",
       "      <td>NON_RECIPROCAL</td>\n",
       "      <td>apartment</td>\n",
       "      <td>secondary</td>\n",
       "      <td>6.0</td>\n",
       "      <td>ESP</td>\n",
       "      <td>Les Asturies</td>\n",
       "      <td>Les Asturies</td>\n",
       "      <td>Avilés</td>\n",
       "      <td>3.0</td>\n",
       "    </tr>\n",
       "    <tr>\n",
       "      <th>2</th>\n",
       "      <td>2</td>\n",
       "      <td>38156044</td>\n",
       "      <td>59856100</td>\n",
       "      <td>2020-07-17</td>\n",
       "      <td>2207335</td>\n",
       "      <td>2207335</td>\n",
       "      <td>3537414</td>\n",
       "      <td>NaN</td>\n",
       "      <td>NaN</td>\n",
       "      <td>2020-07-27</td>\n",
       "      <td>...</td>\n",
       "      <td>6</td>\n",
       "      <td>NON_RECIPROCAL</td>\n",
       "      <td>apartment</td>\n",
       "      <td>secondary</td>\n",
       "      <td>4.0</td>\n",
       "      <td>ESP</td>\n",
       "      <td>Les Asturies</td>\n",
       "      <td>Les Asturies</td>\n",
       "      <td>Cangas de Onís</td>\n",
       "      <td>0.0</td>\n",
       "    </tr>\n",
       "    <tr>\n",
       "      <th>3</th>\n",
       "      <td>3</td>\n",
       "      <td>34141158</td>\n",
       "      <td>55536249</td>\n",
       "      <td>2019-08-02</td>\n",
       "      <td>450515</td>\n",
       "      <td>450515</td>\n",
       "      <td>2822792</td>\n",
       "      <td>NaN</td>\n",
       "      <td>NaN</td>\n",
       "      <td>NaN</td>\n",
       "      <td>...</td>\n",
       "      <td>0</td>\n",
       "      <td>NON_RECIPROCAL</td>\n",
       "      <td>Home</td>\n",
       "      <td>primary</td>\n",
       "      <td>6.0</td>\n",
       "      <td>FRA</td>\n",
       "      <td>Centre-Val De Loire</td>\n",
       "      <td>Loir-Et-Cher</td>\n",
       "      <td>Blois</td>\n",
       "      <td>6.0</td>\n",
       "    </tr>\n",
       "    <tr>\n",
       "      <th>4</th>\n",
       "      <td>4</td>\n",
       "      <td>38553219</td>\n",
       "      <td>60287269</td>\n",
       "      <td>2020-09-14</td>\n",
       "      <td>3055374</td>\n",
       "      <td>3055374</td>\n",
       "      <td>3243667</td>\n",
       "      <td>2020-09-15 12:12:35 UTC</td>\n",
       "      <td>NaN</td>\n",
       "      <td>2020-09-18</td>\n",
       "      <td>...</td>\n",
       "      <td>2</td>\n",
       "      <td>NON_RECIPROCAL</td>\n",
       "      <td>Home</td>\n",
       "      <td>primary</td>\n",
       "      <td>6.0</td>\n",
       "      <td>FRA</td>\n",
       "      <td>Centre-Val De Loire</td>\n",
       "      <td>Loir-Et-Cher</td>\n",
       "      <td>Mont-Prés-Chambord</td>\n",
       "      <td>1.0</td>\n",
       "    </tr>\n",
       "  </tbody>\n",
       "</table>\n",
       "<p>5 rows × 22 columns</p>\n",
       "</div>"
      ],
      "text/plain": [
       "   Unnamed: 0  conversation_id  exchange_id  created_at  creator_id  \\\n",
       "0           0         41311972     63399698  2021-08-22      389898   \n",
       "1           1         43121577     65438439  2022-02-06     2191577   \n",
       "2           2         38156044     59856100  2020-07-17     2207335   \n",
       "3           3         34141158     55536249  2019-08-02      450515   \n",
       "4           4         38553219     60287269  2020-09-14     3055374   \n",
       "\n",
       "   guest_user_id  host_user_id             finalized_at canceled_at  \\\n",
       "0         389898       3277768                      NaN         NaN   \n",
       "1        2191577       3609949                      NaN         NaN   \n",
       "2        2207335       3537414                      NaN         NaN   \n",
       "3         450515       2822792                      NaN         NaN   \n",
       "4        3055374       3243667  2020-09-15 12:12:35 UTC         NaN   \n",
       "\n",
       "     start_on  ... night_count   exchange_type  home_type residence_type  \\\n",
       "0         NaN  ...           0  NON_RECIPROCAL       Home        primary   \n",
       "1         NaN  ...           0  NON_RECIPROCAL  apartment      secondary   \n",
       "2  2020-07-27  ...           6  NON_RECIPROCAL  apartment      secondary   \n",
       "3         NaN  ...           0  NON_RECIPROCAL       Home        primary   \n",
       "4  2020-09-18  ...           2  NON_RECIPROCAL       Home        primary   \n",
       "\n",
       "  capacity country               region    department                city  \\\n",
       "0      2.0     NLD            Groningue  Het Hogeland         Onderdendam   \n",
       "1      6.0     ESP         Les Asturies  Les Asturies              Avilés   \n",
       "2      4.0     ESP         Les Asturies  Les Asturies      Cangas de Onís   \n",
       "3      6.0     FRA  Centre-Val De Loire  Loir-Et-Cher               Blois   \n",
       "4      6.0     FRA  Centre-Val De Loire  Loir-Et-Cher  Mont-Prés-Chambord   \n",
       "\n",
       "  diff_capacity  \n",
       "0           2.0  \n",
       "1           3.0  \n",
       "2           0.0  \n",
       "3           6.0  \n",
       "4           1.0  \n",
       "\n",
       "[5 rows x 22 columns]"
      ]
     },
     "execution_count": 17,
     "metadata": {},
     "output_type": "execute_result"
    }
   ],
   "source": [
    "exchanges.head()"
   ]
  },
  {
   "cell_type": "code",
   "execution_count": 19,
   "id": "6615d7b1",
   "metadata": {},
   "outputs": [
    {
     "name": "stdout",
     "output_type": "stream",
     "text": [
      "<class 'pandas.core.frame.DataFrame'>\n",
      "RangeIndex: 11969751 entries, 0 to 11969750\n",
      "Data columns (total 22 columns):\n",
      " #   Column                  Dtype  \n",
      "---  ------                  -----  \n",
      " 0   Unnamed: 0              int64  \n",
      " 1   conversation_id         int64  \n",
      " 2   exchange_id             int64  \n",
      " 3   created_at              object \n",
      " 4   creator_id              int64  \n",
      " 5   guest_user_id           int64  \n",
      " 6   host_user_id            int64  \n",
      " 7   finalized_at            object \n",
      " 8   canceled_at             object \n",
      " 9   start_on                object \n",
      " 10  end_on                  object \n",
      " 11  guest_countguest_count  int64  \n",
      " 12  night_count             int64  \n",
      " 13  exchange_type           object \n",
      " 14  home_type               object \n",
      " 15  residence_type          object \n",
      " 16  capacity                float64\n",
      " 17  country                 object \n",
      " 18  region                  object \n",
      " 19  department              object \n",
      " 20  city                    object \n",
      " 21  diff_capacity           float64\n",
      "dtypes: float64(2), int64(8), object(12)\n",
      "memory usage: 2.0+ GB\n"
     ]
    }
   ],
   "source": [
    "exchanges.info()"
   ]
  },
  {
   "cell_type": "markdown",
   "id": "dcad353b",
   "metadata": {},
   "source": [
    "#### Checking for empty values"
   ]
  },
  {
   "cell_type": "code",
   "execution_count": 22,
   "id": "837ce7dd",
   "metadata": {},
   "outputs": [
    {
     "data": {
      "text/html": [
       "<div>\n",
       "<style scoped>\n",
       "    .dataframe tbody tr th:only-of-type {\n",
       "        vertical-align: middle;\n",
       "    }\n",
       "\n",
       "    .dataframe tbody tr th {\n",
       "        vertical-align: top;\n",
       "    }\n",
       "\n",
       "    .dataframe thead th {\n",
       "        text-align: right;\n",
       "    }\n",
       "</style>\n",
       "<table border=\"1\" class=\"dataframe\">\n",
       "  <thead>\n",
       "    <tr style=\"text-align: right;\">\n",
       "      <th></th>\n",
       "      <th>nb_null</th>\n",
       "      <th>%null</th>\n",
       "    </tr>\n",
       "  </thead>\n",
       "  <tbody>\n",
       "    <tr>\n",
       "      <th>Unnamed: 0</th>\n",
       "      <td>0</td>\n",
       "      <td>0.000000</td>\n",
       "    </tr>\n",
       "    <tr>\n",
       "      <th>conversation_id</th>\n",
       "      <td>0</td>\n",
       "      <td>0.000000</td>\n",
       "    </tr>\n",
       "    <tr>\n",
       "      <th>exchange_id</th>\n",
       "      <td>0</td>\n",
       "      <td>0.000000</td>\n",
       "    </tr>\n",
       "    <tr>\n",
       "      <th>created_at</th>\n",
       "      <td>0</td>\n",
       "      <td>0.000000</td>\n",
       "    </tr>\n",
       "    <tr>\n",
       "      <th>creator_id</th>\n",
       "      <td>0</td>\n",
       "      <td>0.000000</td>\n",
       "    </tr>\n",
       "    <tr>\n",
       "      <th>guest_user_id</th>\n",
       "      <td>0</td>\n",
       "      <td>0.000000</td>\n",
       "    </tr>\n",
       "    <tr>\n",
       "      <th>host_user_id</th>\n",
       "      <td>0</td>\n",
       "      <td>0.000000</td>\n",
       "    </tr>\n",
       "    <tr>\n",
       "      <th>finalized_at</th>\n",
       "      <td>11571384</td>\n",
       "      <td>96.671886</td>\n",
       "    </tr>\n",
       "    <tr>\n",
       "      <th>canceled_at</th>\n",
       "      <td>11890322</td>\n",
       "      <td>99.336419</td>\n",
       "    </tr>\n",
       "    <tr>\n",
       "      <th>start_on</th>\n",
       "      <td>1335625</td>\n",
       "      <td>11.158336</td>\n",
       "    </tr>\n",
       "    <tr>\n",
       "      <th>end_on</th>\n",
       "      <td>1346820</td>\n",
       "      <td>11.251863</td>\n",
       "    </tr>\n",
       "    <tr>\n",
       "      <th>guest_countguest_count</th>\n",
       "      <td>0</td>\n",
       "      <td>0.000000</td>\n",
       "    </tr>\n",
       "    <tr>\n",
       "      <th>night_count</th>\n",
       "      <td>0</td>\n",
       "      <td>0.000000</td>\n",
       "    </tr>\n",
       "    <tr>\n",
       "      <th>exchange_type</th>\n",
       "      <td>0</td>\n",
       "      <td>0.000000</td>\n",
       "    </tr>\n",
       "    <tr>\n",
       "      <th>home_type</th>\n",
       "      <td>1452</td>\n",
       "      <td>0.012131</td>\n",
       "    </tr>\n",
       "    <tr>\n",
       "      <th>residence_type</th>\n",
       "      <td>44784</td>\n",
       "      <td>0.374143</td>\n",
       "    </tr>\n",
       "    <tr>\n",
       "      <th>capacity</th>\n",
       "      <td>3</td>\n",
       "      <td>0.000025</td>\n",
       "    </tr>\n",
       "    <tr>\n",
       "      <th>country</th>\n",
       "      <td>7104</td>\n",
       "      <td>0.059350</td>\n",
       "    </tr>\n",
       "    <tr>\n",
       "      <th>region</th>\n",
       "      <td>277096</td>\n",
       "      <td>2.314969</td>\n",
       "    </tr>\n",
       "    <tr>\n",
       "      <th>department</th>\n",
       "      <td>869905</td>\n",
       "      <td>7.267528</td>\n",
       "    </tr>\n",
       "    <tr>\n",
       "      <th>city</th>\n",
       "      <td>1175348</td>\n",
       "      <td>9.819319</td>\n",
       "    </tr>\n",
       "    <tr>\n",
       "      <th>diff_capacity</th>\n",
       "      <td>3</td>\n",
       "      <td>0.000025</td>\n",
       "    </tr>\n",
       "  </tbody>\n",
       "</table>\n",
       "</div>"
      ],
      "text/plain": [
       "                         nb_null      %null\n",
       "Unnamed: 0                     0   0.000000\n",
       "conversation_id                0   0.000000\n",
       "exchange_id                    0   0.000000\n",
       "created_at                     0   0.000000\n",
       "creator_id                     0   0.000000\n",
       "guest_user_id                  0   0.000000\n",
       "host_user_id                   0   0.000000\n",
       "finalized_at            11571384  96.671886\n",
       "canceled_at             11890322  99.336419\n",
       "start_on                 1335625  11.158336\n",
       "end_on                   1346820  11.251863\n",
       "guest_countguest_count         0   0.000000\n",
       "night_count                    0   0.000000\n",
       "exchange_type                  0   0.000000\n",
       "home_type                   1452   0.012131\n",
       "residence_type             44784   0.374143\n",
       "capacity                       3   0.000025\n",
       "country                     7104   0.059350\n",
       "region                    277096   2.314969\n",
       "department                869905   7.267528\n",
       "city                     1175348   9.819319\n",
       "diff_capacity                  3   0.000025"
      ]
     },
     "execution_count": 22,
     "metadata": {},
     "output_type": "execute_result"
    }
   ],
   "source": [
    "is_null = pd.DataFrame(exchanges.isnull().sum(), columns=[\"nb_null\"])\n",
    "is_null[\"%null\"] = (is_null[\"nb_null\"] / len(exchanges))*100\n",
    "is_null"
   ]
  },
  {
   "cell_type": "code",
   "execution_count": 23,
   "id": "a2e7ac6d",
   "metadata": {},
   "outputs": [],
   "source": [
    "exchanges = exchanges.drop(columns=[\"Unnamed: 0\"])"
   ]
  },
  {
   "cell_type": "markdown",
   "id": "1e4de2e9",
   "metadata": {},
   "source": [
    "#### Changing data types"
   ]
  },
  {
   "cell_type": "code",
   "execution_count": 25,
   "id": "75df9bc6",
   "metadata": {},
   "outputs": [],
   "source": [
    "exchanges[\"created_at\"] = pd.to_datetime(exchanges[\"created_at\"])\n",
    "exchanges[\"finalized_at\"] = pd.to_datetime(exchanges[\"finalized_at\"])\n",
    "exchanges[\"canceled_at\"] = pd.to_datetime(exchanges[\"canceled_at\"])\n",
    "exchanges[\"start_on\"] = pd.to_datetime(exchanges[\"start_on\"],errors = 'coerce')\n",
    "exchanges[\"end_on\"] = pd.to_datetime(exchanges[\"end_on\"],errors = 'coerce')"
   ]
  },
  {
   "cell_type": "code",
   "execution_count": 26,
   "id": "7ac86bc4",
   "metadata": {},
   "outputs": [],
   "source": [
    "exchanges[\"exchange_type\"] = exchanges[\"exchange_type\"].astype(\"string\")\n",
    "exchanges[\"home_type\"] = exchanges[\"home_type\"].astype(\"string\")\n",
    "exchanges[\"residence_type\"] = exchanges[\"residence_type\"].astype(\"string\")\n",
    "exchanges[\"country\"] = exchanges[\"country\"].astype(\"string\")\n",
    "exchanges[\"region\"] = exchanges[\"region\"].astype(\"string\")\n",
    "exchanges[\"department\"] = exchanges[\"department\"].astype(\"string\")\n",
    "exchanges[\"city\"] = exchanges[\"city\"].astype(\"string\")"
   ]
  },
  {
   "cell_type": "code",
   "execution_count": 27,
   "id": "15f1a0ed",
   "metadata": {},
   "outputs": [
    {
     "name": "stdout",
     "output_type": "stream",
     "text": [
      "<class 'pandas.core.frame.DataFrame'>\n",
      "RangeIndex: 11969751 entries, 0 to 11969750\n",
      "Data columns (total 21 columns):\n",
      " #   Column                  Dtype              \n",
      "---  ------                  -----              \n",
      " 0   conversation_id         int64              \n",
      " 1   exchange_id             int64              \n",
      " 2   created_at              datetime64[ns]     \n",
      " 3   creator_id              int64              \n",
      " 4   guest_user_id           int64              \n",
      " 5   host_user_id            int64              \n",
      " 6   finalized_at            datetime64[ns, UTC]\n",
      " 7   canceled_at             datetime64[ns, UTC]\n",
      " 8   start_on                datetime64[ns]     \n",
      " 9   end_on                  datetime64[ns]     \n",
      " 10  guest_countguest_count  int64              \n",
      " 11  night_count             int64              \n",
      " 12  exchange_type           string             \n",
      " 13  home_type               string             \n",
      " 14  residence_type          string             \n",
      " 15  capacity                float64            \n",
      " 16  country                 string             \n",
      " 17  region                  string             \n",
      " 18  department              string             \n",
      " 19  city                    string             \n",
      " 20  diff_capacity           float64            \n",
      "dtypes: datetime64[ns, UTC](2), datetime64[ns](3), float64(2), int64(7), string(7)\n",
      "memory usage: 1.9 GB\n"
     ]
    }
   ],
   "source": [
    "exchanges.info()"
   ]
  },
  {
   "cell_type": "markdown",
   "id": "65171846",
   "metadata": {},
   "source": [
    "#### Imputing empty values and cleaning\n"
   ]
  },
  {
   "cell_type": "code",
   "execution_count": 29,
   "id": "f84d8892",
   "metadata": {},
   "outputs": [],
   "source": [
    "exchanges[\"is_finalized\"] = exchanges[\"finalized_at\"].notna()\n",
    "exchanges[\"is_cancelled\"] = exchanges[\"canceled_at\"].notna() "
   ]
  },
  {
   "cell_type": "code",
   "execution_count": 30,
   "id": "084e2ee3",
   "metadata": {},
   "outputs": [],
   "source": [
    "exchanges = exchanges.drop(columns=[\"finalized_at\",\"canceled_at\"], axis=1)"
   ]
  },
  {
   "cell_type": "code",
   "execution_count": 31,
   "id": "72986e87",
   "metadata": {},
   "outputs": [],
   "source": [
    "exchanges.drop(exchanges[exchanges[\"night_count\"] == 0].index, inplace = True)"
   ]
  },
  {
   "cell_type": "code",
   "execution_count": 32,
   "id": "4be766e6",
   "metadata": {},
   "outputs": [],
   "source": [
    "exchanges.drop(exchanges[exchanges[\"start_on\"].isnull()].index, inplace=True)"
   ]
  },
  {
   "cell_type": "code",
   "execution_count": 34,
   "id": "b5ed736e",
   "metadata": {},
   "outputs": [],
   "source": [
    "exchanges = exchanges.drop(columns= [\"region\",\"department\",\"city\"])"
   ]
  },
  {
   "cell_type": "code",
   "execution_count": 36,
   "id": "9dd3fb05",
   "metadata": {},
   "outputs": [],
   "source": [
    "exchanges[\"home_type\"] = exchanges[\"home_type\"].fillna(exchanges[\"home_type\"].mode().iloc[0]) "
   ]
  },
  {
   "cell_type": "code",
   "execution_count": 37,
   "id": "9f8ae6de",
   "metadata": {},
   "outputs": [],
   "source": [
    "exchanges[\"residence_type\"] = exchanges[\"residence_type\"].fillna(exchanges[\"residence_type\"].mode().iloc[0]) "
   ]
  },
  {
   "cell_type": "code",
   "execution_count": 38,
   "id": "08bbf2d6",
   "metadata": {},
   "outputs": [],
   "source": [
    "exchanges[\"country\"] = exchanges[\"country\"].fillna(exchanges[\"country\"].mode().iloc[0]) "
   ]
  },
  {
   "cell_type": "code",
   "execution_count": 39,
   "id": "465e4f6d",
   "metadata": {},
   "outputs": [],
   "source": [
    "exchanges[\"capacity\"] = exchanges[\"capacity\"].fillna(exchanges[\"capacity\"].mean())"
   ]
  },
  {
   "cell_type": "code",
   "execution_count": 40,
   "id": "d590b78a",
   "metadata": {},
   "outputs": [],
   "source": [
    "values = {\"diff_capacity\":exchanges[\"capacity\"] - exchanges[\"guest_countguest_count\"]}\n",
    "exchanges = exchanges.fillna(values)"
   ]
  },
  {
   "cell_type": "code",
   "execution_count": 41,
   "id": "e013403f",
   "metadata": {},
   "outputs": [],
   "source": [
    "exchanges[\"diff_capacity\"]= exchanges[\"diff_capacity\"].astype(int)"
   ]
  },
  {
   "cell_type": "code",
   "execution_count": 42,
   "id": "36f4574b",
   "metadata": {},
   "outputs": [],
   "source": [
    "exchanges[\"diff_book_stay\"] = exchanges[\"start_on\"] - exchanges[\"created_at\"]"
   ]
  },
  {
   "cell_type": "code",
   "execution_count": 43,
   "id": "ff6a3b31",
   "metadata": {},
   "outputs": [],
   "source": [
    "exchanges['diff_book_stay'] = pd.to_numeric(exchanges['diff_book_stay'].dt.days, downcast='integer')"
   ]
  },
  {
   "cell_type": "code",
   "execution_count": 44,
   "id": "0931b848",
   "metadata": {},
   "outputs": [
    {
     "data": {
      "text/html": [
       "<div>\n",
       "<style scoped>\n",
       "    .dataframe tbody tr th:only-of-type {\n",
       "        vertical-align: middle;\n",
       "    }\n",
       "\n",
       "    .dataframe tbody tr th {\n",
       "        vertical-align: top;\n",
       "    }\n",
       "\n",
       "    .dataframe thead th {\n",
       "        text-align: right;\n",
       "    }\n",
       "</style>\n",
       "<table border=\"1\" class=\"dataframe\">\n",
       "  <thead>\n",
       "    <tr style=\"text-align: right;\">\n",
       "      <th></th>\n",
       "      <th>conversation_id</th>\n",
       "      <th>exchange_id</th>\n",
       "      <th>created_at</th>\n",
       "      <th>creator_id</th>\n",
       "      <th>guest_user_id</th>\n",
       "      <th>host_user_id</th>\n",
       "      <th>start_on</th>\n",
       "      <th>end_on</th>\n",
       "      <th>guest_countguest_count</th>\n",
       "      <th>night_count</th>\n",
       "      <th>exchange_type</th>\n",
       "      <th>home_type</th>\n",
       "      <th>residence_type</th>\n",
       "      <th>capacity</th>\n",
       "      <th>country</th>\n",
       "      <th>diff_capacity</th>\n",
       "      <th>is_finalized</th>\n",
       "      <th>is_cancelled</th>\n",
       "      <th>diff_book_stay</th>\n",
       "    </tr>\n",
       "  </thead>\n",
       "  <tbody>\n",
       "    <tr>\n",
       "      <th>2</th>\n",
       "      <td>38156044</td>\n",
       "      <td>59856100</td>\n",
       "      <td>2020-07-17</td>\n",
       "      <td>2207335</td>\n",
       "      <td>2207335</td>\n",
       "      <td>3537414</td>\n",
       "      <td>2020-07-27</td>\n",
       "      <td>2020-08-02</td>\n",
       "      <td>4</td>\n",
       "      <td>6</td>\n",
       "      <td>NON_RECIPROCAL</td>\n",
       "      <td>apartment</td>\n",
       "      <td>secondary</td>\n",
       "      <td>4.0</td>\n",
       "      <td>ESP</td>\n",
       "      <td>0</td>\n",
       "      <td>False</td>\n",
       "      <td>False</td>\n",
       "      <td>10</td>\n",
       "    </tr>\n",
       "    <tr>\n",
       "      <th>4</th>\n",
       "      <td>38553219</td>\n",
       "      <td>60287269</td>\n",
       "      <td>2020-09-14</td>\n",
       "      <td>3055374</td>\n",
       "      <td>3055374</td>\n",
       "      <td>3243667</td>\n",
       "      <td>2020-09-18</td>\n",
       "      <td>2020-09-20</td>\n",
       "      <td>5</td>\n",
       "      <td>2</td>\n",
       "      <td>NON_RECIPROCAL</td>\n",
       "      <td>Home</td>\n",
       "      <td>primary</td>\n",
       "      <td>6.0</td>\n",
       "      <td>FRA</td>\n",
       "      <td>1</td>\n",
       "      <td>True</td>\n",
       "      <td>False</td>\n",
       "      <td>4</td>\n",
       "    </tr>\n",
       "    <tr>\n",
       "      <th>6</th>\n",
       "      <td>45977191</td>\n",
       "      <td>68682752</td>\n",
       "      <td>2022-07-03</td>\n",
       "      <td>3024428</td>\n",
       "      <td>3024428</td>\n",
       "      <td>605487</td>\n",
       "      <td>2022-08-22</td>\n",
       "      <td>2022-09-02</td>\n",
       "      <td>0</td>\n",
       "      <td>11</td>\n",
       "      <td>NON_RECIPROCAL</td>\n",
       "      <td>apartment</td>\n",
       "      <td>primary</td>\n",
       "      <td>8.0</td>\n",
       "      <td>HRV</td>\n",
       "      <td>8</td>\n",
       "      <td>False</td>\n",
       "      <td>False</td>\n",
       "      <td>50</td>\n",
       "    </tr>\n",
       "    <tr>\n",
       "      <th>7</th>\n",
       "      <td>39073751</td>\n",
       "      <td>60862385</td>\n",
       "      <td>2021-01-07</td>\n",
       "      <td>1483937</td>\n",
       "      <td>1483937</td>\n",
       "      <td>471734</td>\n",
       "      <td>2021-02-13</td>\n",
       "      <td>2021-02-27</td>\n",
       "      <td>0</td>\n",
       "      <td>14</td>\n",
       "      <td>NON_RECIPROCAL</td>\n",
       "      <td>Home</td>\n",
       "      <td>primary</td>\n",
       "      <td>8.0</td>\n",
       "      <td>PYF</td>\n",
       "      <td>8</td>\n",
       "      <td>False</td>\n",
       "      <td>False</td>\n",
       "      <td>37</td>\n",
       "    </tr>\n",
       "    <tr>\n",
       "      <th>8</th>\n",
       "      <td>39256601</td>\n",
       "      <td>61069855</td>\n",
       "      <td>2021-02-11</td>\n",
       "      <td>2772688</td>\n",
       "      <td>2772688</td>\n",
       "      <td>2685956</td>\n",
       "      <td>2021-02-28</td>\n",
       "      <td>2021-03-08</td>\n",
       "      <td>4</td>\n",
       "      <td>8</td>\n",
       "      <td>NON_RECIPROCAL</td>\n",
       "      <td>Home</td>\n",
       "      <td>primary</td>\n",
       "      <td>7.0</td>\n",
       "      <td>USA</td>\n",
       "      <td>3</td>\n",
       "      <td>False</td>\n",
       "      <td>False</td>\n",
       "      <td>17</td>\n",
       "    </tr>\n",
       "  </tbody>\n",
       "</table>\n",
       "</div>"
      ],
      "text/plain": [
       "   conversation_id  exchange_id created_at  creator_id  guest_user_id  \\\n",
       "2         38156044     59856100 2020-07-17     2207335        2207335   \n",
       "4         38553219     60287269 2020-09-14     3055374        3055374   \n",
       "6         45977191     68682752 2022-07-03     3024428        3024428   \n",
       "7         39073751     60862385 2021-01-07     1483937        1483937   \n",
       "8         39256601     61069855 2021-02-11     2772688        2772688   \n",
       "\n",
       "   host_user_id   start_on     end_on  guest_countguest_count  night_count  \\\n",
       "2       3537414 2020-07-27 2020-08-02                       4            6   \n",
       "4       3243667 2020-09-18 2020-09-20                       5            2   \n",
       "6        605487 2022-08-22 2022-09-02                       0           11   \n",
       "7        471734 2021-02-13 2021-02-27                       0           14   \n",
       "8       2685956 2021-02-28 2021-03-08                       4            8   \n",
       "\n",
       "    exchange_type  home_type residence_type  capacity country  diff_capacity  \\\n",
       "2  NON_RECIPROCAL  apartment      secondary       4.0     ESP              0   \n",
       "4  NON_RECIPROCAL       Home        primary       6.0     FRA              1   \n",
       "6  NON_RECIPROCAL  apartment        primary       8.0     HRV              8   \n",
       "7  NON_RECIPROCAL       Home        primary       8.0     PYF              8   \n",
       "8  NON_RECIPROCAL       Home        primary       7.0     USA              3   \n",
       "\n",
       "   is_finalized  is_cancelled  diff_book_stay  \n",
       "2         False         False              10  \n",
       "4          True         False               4  \n",
       "6         False         False              50  \n",
       "7         False         False              37  \n",
       "8         False         False              17  "
      ]
     },
     "execution_count": 44,
     "metadata": {},
     "output_type": "execute_result"
    }
   ],
   "source": [
    "exchanges.head()"
   ]
  },
  {
   "cell_type": "code",
   "execution_count": 45,
   "id": "f5eeb828",
   "metadata": {},
   "outputs": [
    {
     "data": {
      "text/plain": [
       "Index(['conversation_id', 'exchange_id', 'created_at', 'creator_id',\n",
       "       'guest_user_id', 'host_user_id', 'start_on', 'end_on',\n",
       "       'guest_countguest_count', 'night_count', 'exchange_type', 'home_type',\n",
       "       'residence_type', 'capacity', 'country', 'diff_capacity',\n",
       "       'is_finalized', 'is_cancelled', 'diff_book_stay'],\n",
       "      dtype='object')"
      ]
     },
     "execution_count": 45,
     "metadata": {},
     "output_type": "execute_result"
    }
   ],
   "source": [
    "exchanges.columns"
   ]
  },
  {
   "cell_type": "code",
   "execution_count": 46,
   "id": "2d62cd0c",
   "metadata": {},
   "outputs": [],
   "source": [
    "exchanges[\"night_count\"].replace(-5,5, inplace=True)"
   ]
  },
  {
   "cell_type": "code",
   "execution_count": 47,
   "id": "d511f735",
   "metadata": {},
   "outputs": [],
   "source": [
    "exchanges.drop(exchanges[exchanges[\"capacity\"] == 200].index,  inplace= True)"
   ]
  },
  {
   "cell_type": "code",
   "execution_count": 48,
   "id": "7f016386",
   "metadata": {},
   "outputs": [],
   "source": [
    "exchanges.drop(exchanges[exchanges[\"capacity\"] >50].index, inplace =True)"
   ]
  },
  {
   "cell_type": "code",
   "execution_count": 49,
   "id": "493b3678",
   "metadata": {},
   "outputs": [],
   "source": [
    "exchanges.drop(exchanges[exchanges[\"night_count\"] >62].index, inplace=True)"
   ]
  },
  {
   "cell_type": "code",
   "execution_count": 50,
   "id": "aa3bcb55",
   "metadata": {},
   "outputs": [],
   "source": [
    "exchanges.drop(exchanges[exchanges[\"guest_countguest_count\"] >50].index, inplace =True)"
   ]
  },
  {
   "cell_type": "code",
   "execution_count": 51,
   "id": "fb56a898",
   "metadata": {},
   "outputs": [],
   "source": [
    "exchanges.drop(exchanges[exchanges[\"diff_capacity\"] == 50].index, inplace=True)"
   ]
  },
  {
   "cell_type": "code",
   "execution_count": 52,
   "id": "d89bea84",
   "metadata": {},
   "outputs": [],
   "source": [
    "exchanges.drop(exchanges[exchanges[\"diff_book_stay\"] > 365].index, inplace=True)"
   ]
  },
  {
   "cell_type": "code",
   "execution_count": 53,
   "id": "97bde42d",
   "metadata": {},
   "outputs": [],
   "source": [
    "exchanges.drop(exchanges[exchanges[\"diff_book_stay\"]<0].index, inplace=True)"
   ]
  },
  {
   "cell_type": "code",
   "execution_count": 54,
   "id": "8b95a24b",
   "metadata": {},
   "outputs": [],
   "source": [
    "exchanges.drop(exchanges[exchanges[\"diff_capacity\"]<-5].index, inplace=True)"
   ]
  },
  {
   "cell_type": "code",
   "execution_count": 55,
   "id": "a38a8d0a",
   "metadata": {},
   "outputs": [],
   "source": [
    "exchanges.drop(exchanges[exchanges[\"capacity\"]==0].index, inplace = True)"
   ]
  },
  {
   "cell_type": "code",
   "execution_count": 57,
   "id": "653a9538",
   "metadata": {},
   "outputs": [],
   "source": [
    "exchanges.loc[exchanges[\"guest_countguest_count\"] == 0, \"diff_capacity\"] = 0"
   ]
  },
  {
   "cell_type": "code",
   "execution_count": 58,
   "id": "e5f6d1bd",
   "metadata": {},
   "outputs": [],
   "source": [
    "exchanges[\"guest_countguest_count\"].replace(0,2, inplace =True)"
   ]
  },
  {
   "cell_type": "code",
   "execution_count": 60,
   "id": "66b0a156",
   "metadata": {},
   "outputs": [],
   "source": [
    "values = {\"diff_capacity\":exchanges[\"capacity\"] - exchanges[\"guest_countguest_count\"]}\n",
    "exchanges = exchanges.fillna(values)"
   ]
  },
  {
   "cell_type": "markdown",
   "id": "3fd30ce0",
   "metadata": {},
   "source": [
    "#### Descriptive statistics"
   ]
  },
  {
   "cell_type": "code",
   "execution_count": 65,
   "id": "79e7fc20",
   "metadata": {},
   "outputs": [
    {
     "data": {
      "text/html": [
       "<div>\n",
       "<style scoped>\n",
       "    .dataframe tbody tr th:only-of-type {\n",
       "        vertical-align: middle;\n",
       "    }\n",
       "\n",
       "    .dataframe tbody tr th {\n",
       "        vertical-align: top;\n",
       "    }\n",
       "\n",
       "    .dataframe thead th {\n",
       "        text-align: right;\n",
       "    }\n",
       "</style>\n",
       "<table border=\"1\" class=\"dataframe\">\n",
       "  <thead>\n",
       "    <tr style=\"text-align: right;\">\n",
       "      <th></th>\n",
       "      <th>guest_countguest_count</th>\n",
       "      <th>night_count</th>\n",
       "      <th>capacity</th>\n",
       "      <th>diff_capacity</th>\n",
       "      <th>diff_book_stay</th>\n",
       "    </tr>\n",
       "  </thead>\n",
       "  <tbody>\n",
       "    <tr>\n",
       "      <th>count</th>\n",
       "      <td>1.049422e+07</td>\n",
       "      <td>1.049422e+07</td>\n",
       "      <td>1.049422e+07</td>\n",
       "      <td>1.049422e+07</td>\n",
       "      <td>1.049422e+07</td>\n",
       "    </tr>\n",
       "    <tr>\n",
       "      <th>mean</th>\n",
       "      <td>3.525282e+00</td>\n",
       "      <td>8.401152e+00</td>\n",
       "      <td>6.741038e+00</td>\n",
       "      <td>2.666529e+00</td>\n",
       "      <td>8.406009e+01</td>\n",
       "    </tr>\n",
       "    <tr>\n",
       "      <th>std</th>\n",
       "      <td>1.693005e+00</td>\n",
       "      <td>7.486724e+00</td>\n",
       "      <td>2.744515e+00</td>\n",
       "      <td>2.555749e+00</td>\n",
       "      <td>7.358301e+01</td>\n",
       "    </tr>\n",
       "    <tr>\n",
       "      <th>min</th>\n",
       "      <td>1.000000e+00</td>\n",
       "      <td>1.000000e+00</td>\n",
       "      <td>1.000000e+00</td>\n",
       "      <td>-5.000000e+00</td>\n",
       "      <td>0.000000e+00</td>\n",
       "    </tr>\n",
       "    <tr>\n",
       "      <th>25%</th>\n",
       "      <td>2.000000e+00</td>\n",
       "      <td>4.000000e+00</td>\n",
       "      <td>5.000000e+00</td>\n",
       "      <td>1.000000e+00</td>\n",
       "      <td>2.600000e+01</td>\n",
       "    </tr>\n",
       "    <tr>\n",
       "      <th>50%</th>\n",
       "      <td>4.000000e+00</td>\n",
       "      <td>7.000000e+00</td>\n",
       "      <td>6.000000e+00</td>\n",
       "      <td>2.000000e+00</td>\n",
       "      <td>6.200000e+01</td>\n",
       "    </tr>\n",
       "    <tr>\n",
       "      <th>75%</th>\n",
       "      <td>4.000000e+00</td>\n",
       "      <td>1.100000e+01</td>\n",
       "      <td>8.000000e+00</td>\n",
       "      <td>4.000000e+00</td>\n",
       "      <td>1.260000e+02</td>\n",
       "    </tr>\n",
       "    <tr>\n",
       "      <th>max</th>\n",
       "      <td>4.600000e+01</td>\n",
       "      <td>6.200000e+01</td>\n",
       "      <td>5.000000e+01</td>\n",
       "      <td>4.800000e+01</td>\n",
       "      <td>3.650000e+02</td>\n",
       "    </tr>\n",
       "  </tbody>\n",
       "</table>\n",
       "</div>"
      ],
      "text/plain": [
       "       guest_countguest_count   night_count      capacity  diff_capacity  \\\n",
       "count            1.049422e+07  1.049422e+07  1.049422e+07   1.049422e+07   \n",
       "mean             3.525282e+00  8.401152e+00  6.741038e+00   2.666529e+00   \n",
       "std              1.693005e+00  7.486724e+00  2.744515e+00   2.555749e+00   \n",
       "min              1.000000e+00  1.000000e+00  1.000000e+00  -5.000000e+00   \n",
       "25%              2.000000e+00  4.000000e+00  5.000000e+00   1.000000e+00   \n",
       "50%              4.000000e+00  7.000000e+00  6.000000e+00   2.000000e+00   \n",
       "75%              4.000000e+00  1.100000e+01  8.000000e+00   4.000000e+00   \n",
       "max              4.600000e+01  6.200000e+01  5.000000e+01   4.800000e+01   \n",
       "\n",
       "       diff_book_stay  \n",
       "count    1.049422e+07  \n",
       "mean     8.406009e+01  \n",
       "std      7.358301e+01  \n",
       "min      0.000000e+00  \n",
       "25%      2.600000e+01  \n",
       "50%      6.200000e+01  \n",
       "75%      1.260000e+02  \n",
       "max      3.650000e+02  "
      ]
     },
     "execution_count": 65,
     "metadata": {},
     "output_type": "execute_result"
    }
   ],
   "source": [
    "exchanges[['guest_countguest_count', 'night_count','capacity','diff_capacity',\n",
    "       'is_finalized', 'is_cancelled', 'diff_book_stay']].describe()"
   ]
  },
  {
   "cell_type": "code",
   "execution_count": 66,
   "id": "e6850239",
   "metadata": {},
   "outputs": [
    {
     "data": {
      "text/plain": [
       "(10494222, 19)"
      ]
     },
     "execution_count": 66,
     "metadata": {},
     "output_type": "execute_result"
    }
   ],
   "source": [
    "exchanges.shape"
   ]
  },
  {
   "cell_type": "code",
   "execution_count": 84,
   "id": "ea231735-e6fa-4723-b522-9f4e9c9dc58d",
   "metadata": {},
   "outputs": [],
   "source": [
    "FAKE_FILENAME = 'Exchanges_clean_final.csv'"
   ]
  },
  {
   "cell_type": "code",
   "execution_count": 97,
   "id": "43297952",
   "metadata": {},
   "outputs": [],
   "source": [
    "exchanges.to_csv(os.path.join(DATA_PATH, FAKE_FILENAME))"
   ]
  },
  {
   "cell_type": "code",
   "execution_count": null,
   "id": "81e130ef",
   "metadata": {},
   "outputs": [],
   "source": []
  }
 ],
 "metadata": {
  "kernelspec": {
   "display_name": "Python 3 (ipykernel)",
   "language": "python",
   "name": "python3"
  },
  "language_info": {
   "codemirror_mode": {
    "name": "ipython",
    "version": 3
   },
   "file_extension": ".py",
   "mimetype": "text/x-python",
   "name": "python",
   "nbconvert_exporter": "python",
   "pygments_lexer": "ipython3",
   "version": "3.11.7"
  }
 },
 "nbformat": 4,
 "nbformat_minor": 5
}
