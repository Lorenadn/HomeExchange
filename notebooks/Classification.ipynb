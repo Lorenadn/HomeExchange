{
 "cells": [
  {
   "cell_type": "markdown",
   "id": "c5a5726e-4b30-4956-8949-3bc49ff356fc",
   "metadata": {},
   "source": [
    "# CHURN ANALYSIS"
   ]
  },
  {
   "cell_type": "code",
   "execution_count": 113,
   "id": "412fa86a-0d71-488b-a0a7-6c8d1b9c5f55",
   "metadata": {},
   "outputs": [],
   "source": [
    "import pandas as pd\n",
    "import os\n",
    "\n",
    "DATA_PATH = '../data'\n",
    "FAKE_FILENAME = 'exchanges_ML.csv'\n",
    "exchanges_ML = pd.read_csv(os.path.join(DATA_PATH, FAKE_FILENAME))"
   ]
  },
  {
   "cell_type": "code",
   "execution_count": 115,
   "id": "a85be5c4-5687-4291-b331-2a2e2f2151e7",
   "metadata": {},
   "outputs": [
    {
     "data": {
      "text/html": [
       "<div>\n",
       "<style scoped>\n",
       "    .dataframe tbody tr th:only-of-type {\n",
       "        vertical-align: middle;\n",
       "    }\n",
       "\n",
       "    .dataframe tbody tr th {\n",
       "        vertical-align: top;\n",
       "    }\n",
       "\n",
       "    .dataframe thead th {\n",
       "        text-align: right;\n",
       "    }\n",
       "</style>\n",
       "<table border=\"1\" class=\"dataframe\">\n",
       "  <thead>\n",
       "    <tr style=\"text-align: right;\">\n",
       "      <th></th>\n",
       "      <th>Unnamed: 0</th>\n",
       "      <th>user_id</th>\n",
       "      <th>nb_year</th>\n",
       "      <th>has_renewed</th>\n",
       "      <th>is_new_user</th>\n",
       "      <th>referral</th>\n",
       "      <th>promotion</th>\n",
       "      <th>payment3x</th>\n",
       "      <th>payement2</th>\n",
       "      <th>payment3</th>\n",
       "      <th>...</th>\n",
       "      <th>exchanges_host</th>\n",
       "      <th>nb_guests_host</th>\n",
       "      <th>nights_host</th>\n",
       "      <th>exchange_type_host</th>\n",
       "      <th>home_host</th>\n",
       "      <th>residence_host</th>\n",
       "      <th>capacity_host</th>\n",
       "      <th>diff_capacity_host</th>\n",
       "      <th>finalized_host</th>\n",
       "      <th>book_diff_host</th>\n",
       "    </tr>\n",
       "  </thead>\n",
       "  <tbody>\n",
       "    <tr>\n",
       "      <th>0</th>\n",
       "      <td>0</td>\n",
       "      <td>1</td>\n",
       "      <td>1</td>\n",
       "      <td>0</td>\n",
       "      <td>0</td>\n",
       "      <td>0</td>\n",
       "      <td>0</td>\n",
       "      <td>0</td>\n",
       "      <td>0</td>\n",
       "      <td>0</td>\n",
       "      <td>...</td>\n",
       "      <td>32.0</td>\n",
       "      <td>4.0</td>\n",
       "      <td>6.0</td>\n",
       "      <td>NON_RECIPROCAL</td>\n",
       "      <td>Home</td>\n",
       "      <td>primary</td>\n",
       "      <td>8.0</td>\n",
       "      <td>4.0</td>\n",
       "      <td>2.0</td>\n",
       "      <td>56.0</td>\n",
       "    </tr>\n",
       "    <tr>\n",
       "      <th>1</th>\n",
       "      <td>1</td>\n",
       "      <td>9</td>\n",
       "      <td>2</td>\n",
       "      <td>1</td>\n",
       "      <td>0</td>\n",
       "      <td>0</td>\n",
       "      <td>0</td>\n",
       "      <td>0</td>\n",
       "      <td>0</td>\n",
       "      <td>0</td>\n",
       "      <td>...</td>\n",
       "      <td>380.0</td>\n",
       "      <td>4.0</td>\n",
       "      <td>5.0</td>\n",
       "      <td>NON_RECIPROCAL</td>\n",
       "      <td>apartment</td>\n",
       "      <td>primary</td>\n",
       "      <td>7.0</td>\n",
       "      <td>3.0</td>\n",
       "      <td>8.0</td>\n",
       "      <td>43.0</td>\n",
       "    </tr>\n",
       "    <tr>\n",
       "      <th>2</th>\n",
       "      <td>2</td>\n",
       "      <td>10</td>\n",
       "      <td>1</td>\n",
       "      <td>1</td>\n",
       "      <td>1</td>\n",
       "      <td>0</td>\n",
       "      <td>0</td>\n",
       "      <td>0</td>\n",
       "      <td>0</td>\n",
       "      <td>0</td>\n",
       "      <td>...</td>\n",
       "      <td>53.0</td>\n",
       "      <td>3.0</td>\n",
       "      <td>11.0</td>\n",
       "      <td>NON_RECIPROCAL</td>\n",
       "      <td>apartment</td>\n",
       "      <td>primary</td>\n",
       "      <td>12.0</td>\n",
       "      <td>9.0</td>\n",
       "      <td>0.0</td>\n",
       "      <td>121.0</td>\n",
       "    </tr>\n",
       "    <tr>\n",
       "      <th>3</th>\n",
       "      <td>3</td>\n",
       "      <td>40</td>\n",
       "      <td>1</td>\n",
       "      <td>1</td>\n",
       "      <td>0</td>\n",
       "      <td>0</td>\n",
       "      <td>0</td>\n",
       "      <td>0</td>\n",
       "      <td>0</td>\n",
       "      <td>0</td>\n",
       "      <td>...</td>\n",
       "      <td>4.0</td>\n",
       "      <td>3.0</td>\n",
       "      <td>5.0</td>\n",
       "      <td>NON_RECIPROCAL</td>\n",
       "      <td>Home</td>\n",
       "      <td>primary</td>\n",
       "      <td>5.0</td>\n",
       "      <td>2.0</td>\n",
       "      <td>0.0</td>\n",
       "      <td>104.0</td>\n",
       "    </tr>\n",
       "    <tr>\n",
       "      <th>4</th>\n",
       "      <td>4</td>\n",
       "      <td>67</td>\n",
       "      <td>1</td>\n",
       "      <td>1</td>\n",
       "      <td>1</td>\n",
       "      <td>0</td>\n",
       "      <td>0</td>\n",
       "      <td>0</td>\n",
       "      <td>0</td>\n",
       "      <td>0</td>\n",
       "      <td>...</td>\n",
       "      <td>53.0</td>\n",
       "      <td>3.0</td>\n",
       "      <td>8.0</td>\n",
       "      <td>NON_RECIPROCAL</td>\n",
       "      <td>apartment</td>\n",
       "      <td>primary</td>\n",
       "      <td>6.0</td>\n",
       "      <td>3.0</td>\n",
       "      <td>1.0</td>\n",
       "      <td>144.0</td>\n",
       "    </tr>\n",
       "  </tbody>\n",
       "</table>\n",
       "<p>5 rows × 31 columns</p>\n",
       "</div>"
      ],
      "text/plain": [
       "   Unnamed: 0  user_id  nb_year  has_renewed  is_new_user  referral  \\\n",
       "0           0        1        1            0            0         0   \n",
       "1           1        9        2            1            0         0   \n",
       "2           2       10        1            1            1         0   \n",
       "3           3       40        1            1            0         0   \n",
       "4           4       67        1            1            1         0   \n",
       "\n",
       "   promotion  payment3x  payement2  payment3  ...  exchanges_host  \\\n",
       "0          0          0          0         0  ...            32.0   \n",
       "1          0          0          0         0  ...           380.0   \n",
       "2          0          0          0         0  ...            53.0   \n",
       "3          0          0          0         0  ...             4.0   \n",
       "4          0          0          0         0  ...            53.0   \n",
       "\n",
       "   nb_guests_host  nights_host  exchange_type_host  home_host residence_host  \\\n",
       "0             4.0          6.0      NON_RECIPROCAL       Home        primary   \n",
       "1             4.0          5.0      NON_RECIPROCAL  apartment        primary   \n",
       "2             3.0         11.0      NON_RECIPROCAL  apartment        primary   \n",
       "3             3.0          5.0      NON_RECIPROCAL       Home        primary   \n",
       "4             3.0          8.0      NON_RECIPROCAL  apartment        primary   \n",
       "\n",
       "  capacity_host  diff_capacity_host  finalized_host  book_diff_host  \n",
       "0           8.0                 4.0             2.0            56.0  \n",
       "1           7.0                 3.0             8.0            43.0  \n",
       "2          12.0                 9.0             0.0           121.0  \n",
       "3           5.0                 2.0             0.0           104.0  \n",
       "4           6.0                 3.0             1.0           144.0  \n",
       "\n",
       "[5 rows x 31 columns]"
      ]
     },
     "execution_count": 115,
     "metadata": {},
     "output_type": "execute_result"
    }
   ],
   "source": [
    "exchanges_ML.head()\n"
   ]
  },
  {
   "cell_type": "code",
   "execution_count": 117,
   "id": "c56334b5-2ceb-4250-a622-e2dd0746da21",
   "metadata": {},
   "outputs": [
    {
     "name": "stdout",
     "output_type": "stream",
     "text": [
      "<class 'pandas.core.frame.DataFrame'>\n",
      "RangeIndex: 70726 entries, 0 to 70725\n",
      "Data columns (total 31 columns):\n",
      " #   Column               Non-Null Count  Dtype  \n",
      "---  ------               --------------  -----  \n",
      " 0   Unnamed: 0           70726 non-null  int64  \n",
      " 1   user_id              70726 non-null  int64  \n",
      " 2   nb_year              70726 non-null  int64  \n",
      " 3   has_renewed          70726 non-null  int64  \n",
      " 4   is_new_user          70726 non-null  int64  \n",
      " 5   referral             70726 non-null  int64  \n",
      " 6   promotion            70726 non-null  int64  \n",
      " 7   payment3x            70726 non-null  int64  \n",
      " 8   payement2            70726 non-null  int64  \n",
      " 9   payment3             70726 non-null  int64  \n",
      " 10  abscence_year        70726 non-null  int64  \n",
      " 11  exchanges_guest      70726 non-null  float64\n",
      " 12  nb_guests_guest      70726 non-null  float64\n",
      " 13  nights_guest         70726 non-null  float64\n",
      " 14  exchange_type_guest  70726 non-null  object \n",
      " 15  home_guest           70726 non-null  object \n",
      " 16  residence_guest      70726 non-null  object \n",
      " 17  capacity_guest       70726 non-null  float64\n",
      " 18  diff_capacity_guest  70726 non-null  float64\n",
      " 19  finalized_guest      70726 non-null  float64\n",
      " 20  book_diff_guest      70726 non-null  float64\n",
      " 21  exchanges_host       70726 non-null  float64\n",
      " 22  nb_guests_host       70726 non-null  float64\n",
      " 23  nights_host          70726 non-null  float64\n",
      " 24  exchange_type_host   70726 non-null  object \n",
      " 25  home_host            70726 non-null  object \n",
      " 26  residence_host       70726 non-null  object \n",
      " 27  capacity_host        70726 non-null  float64\n",
      " 28  diff_capacity_host   70726 non-null  float64\n",
      " 29  finalized_host       70726 non-null  float64\n",
      " 30  book_diff_host       70726 non-null  float64\n",
      "dtypes: float64(14), int64(11), object(6)\n",
      "memory usage: 16.7+ MB\n"
     ]
    }
   ],
   "source": [
    "exchanges_ML.info()"
   ]
  },
  {
   "cell_type": "code",
   "execution_count": 119,
   "id": "260a5fb2-21c4-4116-9823-116aee61408b",
   "metadata": {},
   "outputs": [
    {
     "data": {
      "text/plain": [
       "Unnamed: 0             0\n",
       "user_id                0\n",
       "nb_year                0\n",
       "has_renewed            0\n",
       "is_new_user            0\n",
       "referral               0\n",
       "promotion              0\n",
       "payment3x              0\n",
       "payement2              0\n",
       "payment3               0\n",
       "abscence_year          0\n",
       "exchanges_guest        0\n",
       "nb_guests_guest        0\n",
       "nights_guest           0\n",
       "exchange_type_guest    0\n",
       "home_guest             0\n",
       "residence_guest        0\n",
       "capacity_guest         0\n",
       "diff_capacity_guest    0\n",
       "finalized_guest        0\n",
       "book_diff_guest        0\n",
       "exchanges_host         0\n",
       "nb_guests_host         0\n",
       "nights_host            0\n",
       "exchange_type_host     0\n",
       "home_host              0\n",
       "residence_host         0\n",
       "capacity_host          0\n",
       "diff_capacity_host     0\n",
       "finalized_host         0\n",
       "book_diff_host         0\n",
       "dtype: int64"
      ]
     },
     "execution_count": 119,
     "metadata": {},
     "output_type": "execute_result"
    }
   ],
   "source": [
    "exchanges_ML.isnull().sum()"
   ]
  },
  {
   "cell_type": "markdown",
   "id": "46f36b4b-c856-4b8f-8ee4-329809e1efb6",
   "metadata": {},
   "source": [
    "## PREPROCESSING"
   ]
  },
  {
   "cell_type": "code",
   "execution_count": 122,
   "id": "04ec741d-7f25-48fd-b41e-75f031c6f6c9",
   "metadata": {},
   "outputs": [],
   "source": [
    "from sklearn.model_selection import train_test_split\n",
    "from sklearn.preprocessing import StandardScaler, LabelEncoder, OneHotEncoder\n",
    "from sklearn.compose import ColumnTransformer"
   ]
  },
  {
   "cell_type": "code",
   "execution_count": 234,
   "id": "5d1d9cae-cfda-45c2-89ed-9e0d1dd0bb13",
   "metadata": {},
   "outputs": [],
   "source": [
    "exchanges_ML.drop(columns=['Unnamed: 0'], inplace=True)"
   ]
  },
  {
   "cell_type": "code",
   "execution_count": 236,
   "id": "ce5f944a-2e91-452b-81bf-eec39e4cb708",
   "metadata": {},
   "outputs": [
    {
     "name": "stdout",
     "output_type": "stream",
     "text": [
      "<class 'pandas.core.frame.DataFrame'>\n",
      "RangeIndex: 70726 entries, 0 to 70725\n",
      "Data columns (total 30 columns):\n",
      " #   Column               Non-Null Count  Dtype  \n",
      "---  ------               --------------  -----  \n",
      " 0   user_id              70726 non-null  int64  \n",
      " 1   nb_year              70726 non-null  int64  \n",
      " 2   has_renewed          70726 non-null  int64  \n",
      " 3   is_new_user          70726 non-null  int64  \n",
      " 4   referral             70726 non-null  int64  \n",
      " 5   promotion            70726 non-null  int64  \n",
      " 6   payment3x            70726 non-null  int64  \n",
      " 7   payement2            70726 non-null  int64  \n",
      " 8   payment3             70726 non-null  int64  \n",
      " 9   abscence_year        70726 non-null  int64  \n",
      " 10  exchanges_guest      70726 non-null  float64\n",
      " 11  nb_guests_guest      70726 non-null  float64\n",
      " 12  nights_guest         70726 non-null  float64\n",
      " 13  exchange_type_guest  70726 non-null  object \n",
      " 14  home_guest           70726 non-null  object \n",
      " 15  residence_guest      70726 non-null  object \n",
      " 16  capacity_guest       70726 non-null  float64\n",
      " 17  diff_capacity_guest  70726 non-null  float64\n",
      " 18  finalized_guest      70726 non-null  float64\n",
      " 19  book_diff_guest      70726 non-null  float64\n",
      " 20  exchanges_host       70726 non-null  float64\n",
      " 21  nb_guests_host       70726 non-null  float64\n",
      " 22  nights_host          70726 non-null  float64\n",
      " 23  exchange_type_host   70726 non-null  object \n",
      " 24  home_host            70726 non-null  object \n",
      " 25  residence_host       70726 non-null  object \n",
      " 26  capacity_host        70726 non-null  float64\n",
      " 27  diff_capacity_host   70726 non-null  float64\n",
      " 28  finalized_host       70726 non-null  float64\n",
      " 29  book_diff_host       70726 non-null  float64\n",
      "dtypes: float64(14), int64(10), object(6)\n",
      "memory usage: 16.2+ MB\n"
     ]
    }
   ],
   "source": [
    "exchanges_ML.info()"
   ]
  },
  {
   "cell_type": "code",
   "execution_count": 238,
   "id": "008c466a-3473-4827-9053-0efa4a449ff6",
   "metadata": {},
   "outputs": [],
   "source": [
    "target = 'has_renewed'"
   ]
  },
  {
   "cell_type": "code",
   "execution_count": 240,
   "id": "6991c6f5-ba12-4705-ad64-b896abe03ed7",
   "metadata": {},
   "outputs": [],
   "source": [
    "features = [\n",
    "    'nb_year', 'has_renewed', 'is_new_user', 'referral', 'promotion', \n",
    "    'payment3x', 'payement2', 'payment3', 'abscence_year', 'exchanges_guest', \n",
    "    'nb_guests_guest', 'nights_guest', 'exchange_type_guest', 'home_guest', \n",
    "    'residence_guest', 'capacity_guest', 'diff_capacity_guest', 'finalized_guest', \n",
    "    'book_diff_guest', 'exchanges_host', 'nb_guests_host', 'nights_host', \n",
    "    'exchange_type_host', 'home_host', 'residence_host', 'capacity_host', \n",
    "    'diff_capacity_host', 'finalized_host', 'book_diff_host']"
   ]
  },
  {
   "cell_type": "code",
   "execution_count": 242,
   "id": "9c0a7195-206e-41b4-8671-314b32c72bc6",
   "metadata": {},
   "outputs": [],
   "source": [
    "X = exchanges_ML[features]\n",
    "y = exchanges_ML[target]"
   ]
  },
  {
   "cell_type": "code",
   "execution_count": 244,
   "id": "6337f4c5-41c3-46d8-b059-1776a5bc961b",
   "metadata": {},
   "outputs": [],
   "source": [
    "categorical_features = X.select_dtypes(include=['object']).columns\n",
    "numerical_features = X.select_dtypes(exclude=['object']).columns"
   ]
  },
  {
   "cell_type": "code",
   "execution_count": 246,
   "id": "ce7db267-1bbb-44f6-a62c-70b7387dc4d7",
   "metadata": {},
   "outputs": [],
   "source": [
    "preprocessor = ColumnTransformer(\n",
    "    transformers=[\n",
    "        ('num', StandardScaler(), numerical_features),\n",
    "        ('cat', OneHotEncoder(handle_unknown='ignore'), categorical_features)\n",
    "    ])"
   ]
  },
  {
   "cell_type": "code",
   "execution_count": 248,
   "id": "db362354-f0a1-4b8a-a450-a39747ad85d0",
   "metadata": {},
   "outputs": [],
   "source": [
    "X_train, X_test, y_train, y_test = train_test_split(X, y, test_size=0.2, random_state=1)\n"
   ]
  },
  {
   "cell_type": "code",
   "execution_count": 250,
   "id": "5af416c3-75bf-466f-937a-d93f9da0afc9",
   "metadata": {},
   "outputs": [],
   "source": [
    "X_train = preprocessor.fit_transform(X_train)\n",
    "X_test = preprocessor.transform(X_test)"
   ]
  },
  {
   "cell_type": "code",
   "execution_count": 254,
   "id": "f1b09de0-01d9-49c3-ae22-6aae90609f17",
   "metadata": {},
   "outputs": [],
   "source": [
    "if y.dtype == 'object':\n",
    "    le = LabelEncoder()\n",
    "    y_train = le.fit_transform(y_train)\n",
    "    y_test = le.transform(y_test)"
   ]
  },
  {
   "cell_type": "code",
   "execution_count": 256,
   "id": "4731c067-e85a-4291-85f8-6cbcbd587734",
   "metadata": {},
   "outputs": [
    {
     "data": {
      "text/plain": [
       "51138    0\n",
       "63498    1\n",
       "66048    1\n",
       "8250     0\n",
       "66559    1\n",
       "        ..\n",
       "49100    1\n",
       "20609    1\n",
       "21440    1\n",
       "50057    1\n",
       "5192     0\n",
       "Name: has_renewed, Length: 56580, dtype: int64"
      ]
     },
     "execution_count": 256,
     "metadata": {},
     "output_type": "execute_result"
    }
   ],
   "source": [
    "y_train"
   ]
  },
  {
   "cell_type": "markdown",
   "id": "c7232276-a173-45bd-a42a-07b1b052a22a",
   "metadata": {},
   "source": [
    "## TRAINING"
   ]
  },
  {
   "cell_type": "code",
   "execution_count": 264,
   "id": "e1d0ad74-2c87-4902-9c5e-c683819b0489",
   "metadata": {},
   "outputs": [
    {
     "data": {
      "text/html": [
       "<style>#sk-container-id-5 {color: black;background-color: white;}#sk-container-id-5 pre{padding: 0;}#sk-container-id-5 div.sk-toggleable {background-color: white;}#sk-container-id-5 label.sk-toggleable__label {cursor: pointer;display: block;width: 100%;margin-bottom: 0;padding: 0.3em;box-sizing: border-box;text-align: center;}#sk-container-id-5 label.sk-toggleable__label-arrow:before {content: \"▸\";float: left;margin-right: 0.25em;color: #696969;}#sk-container-id-5 label.sk-toggleable__label-arrow:hover:before {color: black;}#sk-container-id-5 div.sk-estimator:hover label.sk-toggleable__label-arrow:before {color: black;}#sk-container-id-5 div.sk-toggleable__content {max-height: 0;max-width: 0;overflow: hidden;text-align: left;background-color: #f0f8ff;}#sk-container-id-5 div.sk-toggleable__content pre {margin: 0.2em;color: black;border-radius: 0.25em;background-color: #f0f8ff;}#sk-container-id-5 input.sk-toggleable__control:checked~div.sk-toggleable__content {max-height: 200px;max-width: 100%;overflow: auto;}#sk-container-id-5 input.sk-toggleable__control:checked~label.sk-toggleable__label-arrow:before {content: \"▾\";}#sk-container-id-5 div.sk-estimator input.sk-toggleable__control:checked~label.sk-toggleable__label {background-color: #d4ebff;}#sk-container-id-5 div.sk-label input.sk-toggleable__control:checked~label.sk-toggleable__label {background-color: #d4ebff;}#sk-container-id-5 input.sk-hidden--visually {border: 0;clip: rect(1px 1px 1px 1px);clip: rect(1px, 1px, 1px, 1px);height: 1px;margin: -1px;overflow: hidden;padding: 0;position: absolute;width: 1px;}#sk-container-id-5 div.sk-estimator {font-family: monospace;background-color: #f0f8ff;border: 1px dotted black;border-radius: 0.25em;box-sizing: border-box;margin-bottom: 0.5em;}#sk-container-id-5 div.sk-estimator:hover {background-color: #d4ebff;}#sk-container-id-5 div.sk-parallel-item::after {content: \"\";width: 100%;border-bottom: 1px solid gray;flex-grow: 1;}#sk-container-id-5 div.sk-label:hover label.sk-toggleable__label {background-color: #d4ebff;}#sk-container-id-5 div.sk-serial::before {content: \"\";position: absolute;border-left: 1px solid gray;box-sizing: border-box;top: 0;bottom: 0;left: 50%;z-index: 0;}#sk-container-id-5 div.sk-serial {display: flex;flex-direction: column;align-items: center;background-color: white;padding-right: 0.2em;padding-left: 0.2em;position: relative;}#sk-container-id-5 div.sk-item {position: relative;z-index: 1;}#sk-container-id-5 div.sk-parallel {display: flex;align-items: stretch;justify-content: center;background-color: white;position: relative;}#sk-container-id-5 div.sk-item::before, #sk-container-id-5 div.sk-parallel-item::before {content: \"\";position: absolute;border-left: 1px solid gray;box-sizing: border-box;top: 0;bottom: 0;left: 50%;z-index: -1;}#sk-container-id-5 div.sk-parallel-item {display: flex;flex-direction: column;z-index: 1;position: relative;background-color: white;}#sk-container-id-5 div.sk-parallel-item:first-child::after {align-self: flex-end;width: 50%;}#sk-container-id-5 div.sk-parallel-item:last-child::after {align-self: flex-start;width: 50%;}#sk-container-id-5 div.sk-parallel-item:only-child::after {width: 0;}#sk-container-id-5 div.sk-dashed-wrapped {border: 1px dashed gray;margin: 0 0.4em 0.5em 0.4em;box-sizing: border-box;padding-bottom: 0.4em;background-color: white;}#sk-container-id-5 div.sk-label label {font-family: monospace;font-weight: bold;display: inline-block;line-height: 1.2em;}#sk-container-id-5 div.sk-label-container {text-align: center;}#sk-container-id-5 div.sk-container {/* jupyter's `normalize.less` sets `[hidden] { display: none; }` but bootstrap.min.css set `[hidden] { display: none !important; }` so we also need the `!important` here to be able to override the default hidden behavior on the sphinx rendered scikit-learn.org. See: https://github.com/scikit-learn/scikit-learn/issues/21755 */display: inline-block !important;position: relative;}#sk-container-id-5 div.sk-text-repr-fallback {display: none;}</style><div id=\"sk-container-id-5\" class=\"sk-top-container\"><div class=\"sk-text-repr-fallback\"><pre>LogisticRegression()</pre><b>In a Jupyter environment, please rerun this cell to show the HTML representation or trust the notebook. <br />On GitHub, the HTML representation is unable to render, please try loading this page with nbviewer.org.</b></div><div class=\"sk-container\" hidden><div class=\"sk-item\"><div class=\"sk-estimator sk-toggleable\"><input class=\"sk-toggleable__control sk-hidden--visually\" id=\"sk-estimator-id-5\" type=\"checkbox\" checked><label for=\"sk-estimator-id-5\" class=\"sk-toggleable__label sk-toggleable__label-arrow\">LogisticRegression</label><div class=\"sk-toggleable__content\"><pre>LogisticRegression()</pre></div></div></div></div></div>"
      ],
      "text/plain": [
       "LogisticRegression()"
      ]
     },
     "execution_count": 264,
     "metadata": {},
     "output_type": "execute_result"
    }
   ],
   "source": [
    "from sklearn.linear_model import LogisticRegression\n",
    "model = LogisticRegression()\n",
    "model.fit(X_train,y_train)\n"
   ]
  },
  {
   "cell_type": "code",
   "execution_count": 266,
   "id": "4705863b-f08f-47b7-acc9-75ac740a8dfc",
   "metadata": {},
   "outputs": [],
   "source": [
    "y_pred = model.predict(X_test)"
   ]
  },
  {
   "cell_type": "code",
   "execution_count": 268,
   "id": "6b96f193-bd9e-46e4-8105-5a5ea7664aae",
   "metadata": {},
   "outputs": [
    {
     "name": "stdout",
     "output_type": "stream",
     "text": [
      "test data accuracy = 1.0\n"
     ]
    }
   ],
   "source": [
    "accuracy_test = model.score(X_test, y_test)\n",
    "\n",
    "print(f\"test data accuracy = {(accuracy_test)}\")"
   ]
  },
  {
   "cell_type": "code",
   "execution_count": 270,
   "id": "c631390d-d8cc-41d5-9536-4f02c3a8027e",
   "metadata": {},
   "outputs": [],
   "source": [
    "accuracy_train = model.score(X_train, y_train)"
   ]
  },
  {
   "cell_type": "code",
   "execution_count": 272,
   "id": "492164d6-63a6-4960-b452-e7aba7e6cfe5",
   "metadata": {},
   "outputs": [
    {
     "data": {
      "text/plain": [
       "1.0"
      ]
     },
     "execution_count": 272,
     "metadata": {},
     "output_type": "execute_result"
    }
   ],
   "source": [
    "accuracy_train"
   ]
  },
  {
   "cell_type": "code",
   "execution_count": 214,
   "id": "1a7091f5-4c4e-423c-b194-c1509f3b3ca9",
   "metadata": {},
   "outputs": [],
   "source": [
    "from sklearn.ensemble import RandomForestClassifier\n",
    "from sklearn.metrics import classification_report, confusion_matrix"
   ]
  },
  {
   "cell_type": "code",
   "execution_count": 216,
   "id": "b6efa195-d015-456a-bc00-d97796e2c55c",
   "metadata": {},
   "outputs": [],
   "source": [
    "model = RandomForestClassifier(random_state=1)\n",
    "model.fit(X_train, y_train)\n",
    "y_pred = model.predict(X_test)"
   ]
  },
  {
   "cell_type": "markdown",
   "id": "1ba41a70-2c97-4f14-8aa1-cf1ad07f7d46",
   "metadata": {},
   "source": [
    "## EVALUATE THE MODEL"
   ]
  },
  {
   "cell_type": "code",
   "execution_count": 219,
   "id": "ed48777c-f1f7-4f95-9aa3-141135be8e90",
   "metadata": {},
   "outputs": [
    {
     "name": "stdout",
     "output_type": "stream",
     "text": [
      "              precision    recall  f1-score   support\n",
      "\n",
      "           0       1.00      1.00      1.00      5470\n",
      "           1       1.00      1.00      1.00      8676\n",
      "\n",
      "    accuracy                           1.00     14146\n",
      "   macro avg       1.00      1.00      1.00     14146\n",
      "weighted avg       1.00      1.00      1.00     14146\n",
      "\n",
      "[[5470    0]\n",
      " [   0 8676]]\n"
     ]
    }
   ],
   "source": [
    "print(classification_report(y_test, y_pred))\n",
    "print(confusion_matrix(y_test, y_pred))"
   ]
  },
  {
   "cell_type": "code",
   "execution_count": 220,
   "id": "b6eec812-cff2-4c4e-9000-ac91ed42af62",
   "metadata": {},
   "outputs": [],
   "source": [
    "import seaborn as sns\n",
    "import matplotlib.pyplot as plt"
   ]
  },
  {
   "cell_type": "code",
   "execution_count": 221,
   "id": "7bb78b86-b0f3-46bf-9700-7ab319745f9d",
   "metadata": {},
   "outputs": [
    {
     "name": "stdout",
     "output_type": "stream",
     "text": [
      "              precision  recall  f1-score  support\n",
      "0                   1.0     1.0       1.0   5470.0\n",
      "1                   1.0     1.0       1.0   8676.0\n",
      "accuracy            1.0     1.0       1.0      1.0\n",
      "macro avg           1.0     1.0       1.0  14146.0\n",
      "weighted avg        1.0     1.0       1.0  14146.0\n"
     ]
    }
   ],
   "source": [
    "report = classification_report(y_test, y_pred, output_dict=True)\n",
    "report_df = pd.DataFrame(report).transpose()\n",
    "print(report_df)"
   ]
  }
 ],
 "metadata": {
  "kernelspec": {
   "display_name": "Python 3 (ipykernel)",
   "language": "python",
   "name": "python3"
  },
  "language_info": {
   "codemirror_mode": {
    "name": "ipython",
    "version": 3
   },
   "file_extension": ".py",
   "mimetype": "text/x-python",
   "name": "python",
   "nbconvert_exporter": "python",
   "pygments_lexer": "ipython3",
   "version": "3.11.7"
  }
 },
 "nbformat": 4,
 "nbformat_minor": 5
}
