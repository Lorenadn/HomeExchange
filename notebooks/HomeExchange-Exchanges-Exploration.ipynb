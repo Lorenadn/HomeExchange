{
 "cells": [
  {
   "cell_type": "code",
   "execution_count": null,
   "id": "2a36131d",
   "metadata": {},
   "outputs": [],
   "source": []
  },
  {
   "cell_type": "code",
   "execution_count": null,
   "id": "ec1a652b",
   "metadata": {},
   "outputs": [],
   "source": []
  },
  {
   "cell_type": "code",
   "execution_count": null,
   "id": "ef1fef79",
   "metadata": {},
   "outputs": [],
   "source": []
  },
  {
   "cell_type": "code",
   "execution_count": null,
   "id": "e319ceb0",
   "metadata": {},
   "outputs": [],
   "source": []
  },
  {
   "cell_type": "code",
   "execution_count": null,
   "id": "c0aae48c",
   "metadata": {},
   "outputs": [],
   "source": [
    "import pandas as pd\n",
    "import numpy as np\n",
    "import seaborn as sns\n",
    "import matplotlib.pyplot as plt\n",
    "import plotly.express as px\n",
    "import os\n",
    "import glob"
   ]
  },
  {
   "cell_type": "code",
   "execution_count": null,
   "id": "6b1a7ae1",
   "metadata": {},
   "outputs": [],
   "source": [
    "exchanges = pd.read_csv(r\"C:\\Users\\imane\\OneDrive\\Desktop\\home_exchange\\HomeExchange\\data\\exchanges_clean_final.csv\")\n",
    "exchanges.head()"
   ]
  },
  {
   "cell_type": "code",
   "execution_count": null,
   "id": "a04ff5cf",
   "metadata": {},
   "outputs": [],
   "source": [
    "exchanges.info()"
   ]
  },
  {
   "cell_type": "code",
   "execution_count": null,
   "id": "4a11eae0",
   "metadata": {},
   "outputs": [],
   "source": [
    "hist1 = px.histogram(exchanges, x=\"guest_countguest_count\")\n",
    "hist1.show()"
   ]
  },
  {
   "cell_type": "code",
   "execution_count": null,
   "id": "2a84bb26",
   "metadata": {},
   "outputs": [],
   "source": [
    "hist2 = px.histogram(exchanges, x=\"night_count\")\n",
    "hist2.show()"
   ]
  },
  {
   "cell_type": "code",
   "execution_count": null,
   "id": "b4fb34d3",
   "metadata": {},
   "outputs": [],
   "source": [
    "hist3 = px.histogram(exchanges, x=\"capacity\")\n",
    "hist3.show()"
   ]
  },
  {
   "cell_type": "code",
   "execution_count": null,
   "id": "92cdc658",
   "metadata": {},
   "outputs": [],
   "source": [
    "hist3 = px.histogram(exchanges, x=\"capacity\")\n",
    "hist3.show()"
   ]
  }
 ],
 "metadata": {
  "kernelspec": {
   "display_name": "Python 3 (ipykernel)",
   "language": "python",
   "name": "python3"
  },
  "language_info": {
   "codemirror_mode": {
    "name": "ipython",
    "version": 3
   },
   "file_extension": ".py",
   "mimetype": "text/x-python",
   "name": "python",
   "nbconvert_exporter": "python",
   "pygments_lexer": "ipython3",
   "version": "3.10.9"
  }
 },
 "nbformat": 4,
 "nbformat_minor": 5
}
