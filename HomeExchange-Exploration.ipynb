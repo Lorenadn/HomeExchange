{
 "cells": [
  {
   "cell_type": "markdown",
   "id": "85cfdf46",
   "metadata": {},
   "source": [
    "# HomeExchange"
   ]
  },
  {
   "cell_type": "markdown",
   "id": "a604e80d",
   "metadata": {},
   "source": [
    "## Overview"
   ]
  },
  {
   "cell_type": "markdown",
   "id": "931fa15d",
   "metadata": {},
   "source": [
    "## Objectives"
   ]
  },
  {
   "cell_type": "markdown",
   "id": "2350f4bd",
   "metadata": {},
   "source": [
    "## Steps"
   ]
  },
  {
   "cell_type": "code",
   "execution_count": null,
   "id": "fa1be08d",
   "metadata": {},
   "outputs": [],
   "source": []
  },
  {
   "cell_type": "code",
   "execution_count": null,
   "id": "809509d5",
   "metadata": {},
   "outputs": [],
   "source": []
  },
  {
   "cell_type": "code",
   "execution_count": 53,
   "id": "63ce0c25",
   "metadata": {},
   "outputs": [],
   "source": [
    "import pandas as pd\n",
    "import numpy as np\n",
    "import seaborn as sns\n",
    "import matplotlib.pyplot as plt\n",
    "import plotly.express as px\n",
    "import os\n",
    "import glob"
   ]
  },
  {
   "cell_type": "markdown",
   "id": "18740a33",
   "metadata": {},
   "source": [
    "## Subscriptions"
   ]
  },
  {
   "cell_type": "code",
   "execution_count": 54,
   "id": "2de03b3b",
   "metadata": {},
   "outputs": [
    {
     "data": {
      "text/html": [
       "<div>\n",
       "<style scoped>\n",
       "    .dataframe tbody tr th:only-of-type {\n",
       "        vertical-align: middle;\n",
       "    }\n",
       "\n",
       "    .dataframe tbody tr th {\n",
       "        vertical-align: top;\n",
       "    }\n",
       "\n",
       "    .dataframe thead th {\n",
       "        text-align: right;\n",
       "    }\n",
       "</style>\n",
       "<table border=\"1\" class=\"dataframe\">\n",
       "  <thead>\n",
       "    <tr style=\"text-align: right;\">\n",
       "      <th></th>\n",
       "      <th>subscription_date</th>\n",
       "      <th>user_id</th>\n",
       "      <th>renew</th>\n",
       "      <th>first_subscription_date</th>\n",
       "      <th>first_subscription</th>\n",
       "      <th>referral</th>\n",
       "      <th>promotion</th>\n",
       "      <th>payment3x</th>\n",
       "      <th>payment2</th>\n",
       "      <th>payment3</th>\n",
       "      <th>diff_year</th>\n",
       "    </tr>\n",
       "  </thead>\n",
       "  <tbody>\n",
       "    <tr>\n",
       "      <th>0</th>\n",
       "      <td>2019-01-01</td>\n",
       "      <td>2062530</td>\n",
       "      <td>1</td>\n",
       "      <td>2018-01-01</td>\n",
       "      <td>0</td>\n",
       "      <td>0</td>\n",
       "      <td>0</td>\n",
       "      <td>0</td>\n",
       "      <td>0</td>\n",
       "      <td>0</td>\n",
       "      <td>1</td>\n",
       "    </tr>\n",
       "    <tr>\n",
       "      <th>1</th>\n",
       "      <td>2019-01-02</td>\n",
       "      <td>1177188</td>\n",
       "      <td>1</td>\n",
       "      <td>2007-04-14</td>\n",
       "      <td>0</td>\n",
       "      <td>0</td>\n",
       "      <td>0</td>\n",
       "      <td>0</td>\n",
       "      <td>0</td>\n",
       "      <td>0</td>\n",
       "      <td>12</td>\n",
       "    </tr>\n",
       "    <tr>\n",
       "      <th>2</th>\n",
       "      <td>2019-01-03</td>\n",
       "      <td>2803569</td>\n",
       "      <td>0</td>\n",
       "      <td>2018-01-07</td>\n",
       "      <td>0</td>\n",
       "      <td>0</td>\n",
       "      <td>0</td>\n",
       "      <td>0</td>\n",
       "      <td>0</td>\n",
       "      <td>0</td>\n",
       "      <td>1</td>\n",
       "    </tr>\n",
       "    <tr>\n",
       "      <th>3</th>\n",
       "      <td>2019-01-03</td>\n",
       "      <td>2656379</td>\n",
       "      <td>1</td>\n",
       "      <td>2018-01-03</td>\n",
       "      <td>0</td>\n",
       "      <td>0</td>\n",
       "      <td>0</td>\n",
       "      <td>0</td>\n",
       "      <td>0</td>\n",
       "      <td>0</td>\n",
       "      <td>1</td>\n",
       "    </tr>\n",
       "    <tr>\n",
       "      <th>4</th>\n",
       "      <td>2019-01-05</td>\n",
       "      <td>2252650</td>\n",
       "      <td>0</td>\n",
       "      <td>2014-05-01</td>\n",
       "      <td>0</td>\n",
       "      <td>0</td>\n",
       "      <td>0</td>\n",
       "      <td>0</td>\n",
       "      <td>0</td>\n",
       "      <td>0</td>\n",
       "      <td>5</td>\n",
       "    </tr>\n",
       "  </tbody>\n",
       "</table>\n",
       "</div>"
      ],
      "text/plain": [
       "  subscription_date  user_id  renew first_subscription_date  \\\n",
       "0        2019-01-01  2062530      1              2018-01-01   \n",
       "1        2019-01-02  1177188      1              2007-04-14   \n",
       "2        2019-01-03  2803569      0              2018-01-07   \n",
       "3        2019-01-03  2656379      1              2018-01-03   \n",
       "4        2019-01-05  2252650      0              2014-05-01   \n",
       "\n",
       "   first_subscription  referral  promotion  payment3x  payment2  payment3  \\\n",
       "0                   0         0          0          0         0         0   \n",
       "1                   0         0          0          0         0         0   \n",
       "2                   0         0          0          0         0         0   \n",
       "3                   0         0          0          0         0         0   \n",
       "4                   0         0          0          0         0         0   \n",
       "\n",
       "   diff_year  \n",
       "0          1  \n",
       "1         12  \n",
       "2          1  \n",
       "3          1  \n",
       "4          5  "
      ]
     },
     "execution_count": 54,
     "metadata": {},
     "output_type": "execute_result"
    }
   ],
   "source": [
    "subscriptions = pd.read_csv(r\"C:\\Users\\imane\\OneDrive\\Desktop\\home_exchange\\HomeExchange\\data\\subscriptions.csv\")\n",
    "subscriptions.head()"
   ]
  },
  {
   "cell_type": "code",
   "execution_count": 55,
   "id": "e91cb19c",
   "metadata": {},
   "outputs": [
    {
     "name": "stdout",
     "output_type": "stream",
     "text": [
      "<class 'pandas.core.frame.DataFrame'>\n",
      "RangeIndex: 99702 entries, 0 to 99701\n",
      "Data columns (total 11 columns):\n",
      " #   Column                   Non-Null Count  Dtype \n",
      "---  ------                   --------------  ----- \n",
      " 0   subscription_date        99702 non-null  object\n",
      " 1   user_id                  99702 non-null  int64 \n",
      " 2   renew                    99702 non-null  int64 \n",
      " 3   first_subscription_date  99702 non-null  object\n",
      " 4   first_subscription       99702 non-null  int64 \n",
      " 5   referral                 99702 non-null  int64 \n",
      " 6   promotion                99702 non-null  int64 \n",
      " 7   payment3x                99702 non-null  int64 \n",
      " 8   payment2                 99702 non-null  int64 \n",
      " 9   payment3                 99702 non-null  int64 \n",
      " 10  diff_year                99702 non-null  int64 \n",
      "dtypes: int64(9), object(2)\n",
      "memory usage: 8.4+ MB\n"
     ]
    }
   ],
   "source": [
    "subscriptions.info()"
   ]
  },
  {
   "cell_type": "code",
   "execution_count": 56,
   "id": "6b65da2c",
   "metadata": {},
   "outputs": [
    {
     "data": {
      "text/plain": [
       "subscription_date          0\n",
       "user_id                    0\n",
       "renew                      0\n",
       "first_subscription_date    0\n",
       "first_subscription         0\n",
       "referral                   0\n",
       "promotion                  0\n",
       "payment3x                  0\n",
       "payment2                   0\n",
       "payment3                   0\n",
       "diff_year                  0\n",
       "dtype: int64"
      ]
     },
     "execution_count": 56,
     "metadata": {},
     "output_type": "execute_result"
    }
   ],
   "source": [
    "subscriptions.isnull().sum()"
   ]
  },
  {
   "cell_type": "code",
   "execution_count": 57,
   "id": "8c705a7d",
   "metadata": {},
   "outputs": [
    {
     "data": {
      "text/plain": [
       "0"
      ]
     },
     "execution_count": 57,
     "metadata": {},
     "output_type": "execute_result"
    }
   ],
   "source": [
    "subscriptions.duplicated().sum()"
   ]
  },
  {
   "cell_type": "code",
   "execution_count": 58,
   "id": "6053e4be",
   "metadata": {},
   "outputs": [],
   "source": [
    "subscriptions[\"subscription_date\"] = pd.to_datetime(subscriptions[\"subscription_date\"])\n",
    "subscriptions[\"first_subscription_date\"] = pd.to_datetime(subscriptions[\"first_subscription_date\"])"
   ]
  },
  {
   "cell_type": "markdown",
   "id": "773a676c",
   "metadata": {},
   "source": [
    "## Exchanges"
   ]
  },
  {
   "cell_type": "code",
   "execution_count": 59,
   "id": "43f1e5f3",
   "metadata": {},
   "outputs": [],
   "source": [
    "path = r\"C:\\Users\\imane\\OneDrive\\Desktop\\home_exchange\\HomeExchange\\data\\exchanges\\*\"\n",
    "files = []\n",
    "for f in glob.glob(path):\n",
    "    files.append(f)"
   ]
  },
  {
   "cell_type": "code",
   "execution_count": 60,
   "id": "cbea316c",
   "metadata": {},
   "outputs": [],
   "source": [
    "dfs = []\n",
    "for f in range(len(files)):\n",
    "    df = pd.read_csv(files[f])\n",
    "    dfs.append(df)"
   ]
  },
  {
   "cell_type": "code",
   "execution_count": null,
   "id": "076e7716",
   "metadata": {},
   "outputs": [],
   "source": [
    "exchanges = pd.concat(dfs, axis=0)"
   ]
  },
  {
   "cell_type": "code",
   "execution_count": 50,
   "id": "28d802fb",
   "metadata": {},
   "outputs": [],
   "source": [
    "exchanges.to_csv(\"Exchanges_clean.csv\")"
   ]
  },
  {
   "cell_type": "code",
   "execution_count": 48,
   "id": "a8ebd02e",
   "metadata": {},
   "outputs": [
    {
     "data": {
      "text/html": [
       "<div>\n",
       "<style scoped>\n",
       "    .dataframe tbody tr th:only-of-type {\n",
       "        vertical-align: middle;\n",
       "    }\n",
       "\n",
       "    .dataframe tbody tr th {\n",
       "        vertical-align: top;\n",
       "    }\n",
       "\n",
       "    .dataframe thead th {\n",
       "        text-align: right;\n",
       "    }\n",
       "</style>\n",
       "<table border=\"1\" class=\"dataframe\">\n",
       "  <thead>\n",
       "    <tr style=\"text-align: right;\">\n",
       "      <th></th>\n",
       "      <th>conversation_id</th>\n",
       "      <th>exchange_id</th>\n",
       "      <th>created_at</th>\n",
       "      <th>creator_id</th>\n",
       "      <th>guest_user_id</th>\n",
       "      <th>host_user_id</th>\n",
       "      <th>finalized_at</th>\n",
       "      <th>canceled_at</th>\n",
       "      <th>start_on</th>\n",
       "      <th>end_on</th>\n",
       "      <th>...</th>\n",
       "      <th>night_count</th>\n",
       "      <th>exchange_type</th>\n",
       "      <th>home_type</th>\n",
       "      <th>residence_type</th>\n",
       "      <th>capacity</th>\n",
       "      <th>country</th>\n",
       "      <th>region</th>\n",
       "      <th>department</th>\n",
       "      <th>city</th>\n",
       "      <th>diff_capacity</th>\n",
       "    </tr>\n",
       "  </thead>\n",
       "  <tbody>\n",
       "    <tr>\n",
       "      <th>0</th>\n",
       "      <td>41311972</td>\n",
       "      <td>63399698</td>\n",
       "      <td>2021-08-22</td>\n",
       "      <td>389898</td>\n",
       "      <td>389898</td>\n",
       "      <td>3277768</td>\n",
       "      <td>NaN</td>\n",
       "      <td>NaN</td>\n",
       "      <td>NaN</td>\n",
       "      <td>NaN</td>\n",
       "      <td>...</td>\n",
       "      <td>0</td>\n",
       "      <td>NON_RECIPROCAL</td>\n",
       "      <td>Home</td>\n",
       "      <td>primary</td>\n",
       "      <td>2.0</td>\n",
       "      <td>NLD</td>\n",
       "      <td>Groningue</td>\n",
       "      <td>Het Hogeland</td>\n",
       "      <td>Onderdendam</td>\n",
       "      <td>2.0</td>\n",
       "    </tr>\n",
       "    <tr>\n",
       "      <th>1</th>\n",
       "      <td>43121577</td>\n",
       "      <td>65438439</td>\n",
       "      <td>2022-02-06</td>\n",
       "      <td>2191577</td>\n",
       "      <td>2191577</td>\n",
       "      <td>3609949</td>\n",
       "      <td>NaN</td>\n",
       "      <td>NaN</td>\n",
       "      <td>NaN</td>\n",
       "      <td>NaN</td>\n",
       "      <td>...</td>\n",
       "      <td>0</td>\n",
       "      <td>NON_RECIPROCAL</td>\n",
       "      <td>apartment</td>\n",
       "      <td>secondary</td>\n",
       "      <td>6.0</td>\n",
       "      <td>ESP</td>\n",
       "      <td>Les Asturies</td>\n",
       "      <td>Les Asturies</td>\n",
       "      <td>Avilés</td>\n",
       "      <td>3.0</td>\n",
       "    </tr>\n",
       "    <tr>\n",
       "      <th>2</th>\n",
       "      <td>38156044</td>\n",
       "      <td>59856100</td>\n",
       "      <td>2020-07-17</td>\n",
       "      <td>2207335</td>\n",
       "      <td>2207335</td>\n",
       "      <td>3537414</td>\n",
       "      <td>NaN</td>\n",
       "      <td>NaN</td>\n",
       "      <td>2020-07-27</td>\n",
       "      <td>2020-08-02</td>\n",
       "      <td>...</td>\n",
       "      <td>6</td>\n",
       "      <td>NON_RECIPROCAL</td>\n",
       "      <td>apartment</td>\n",
       "      <td>secondary</td>\n",
       "      <td>4.0</td>\n",
       "      <td>ESP</td>\n",
       "      <td>Les Asturies</td>\n",
       "      <td>Les Asturies</td>\n",
       "      <td>Cangas de Onís</td>\n",
       "      <td>0.0</td>\n",
       "    </tr>\n",
       "    <tr>\n",
       "      <th>3</th>\n",
       "      <td>34141158</td>\n",
       "      <td>55536249</td>\n",
       "      <td>2019-08-02</td>\n",
       "      <td>450515</td>\n",
       "      <td>450515</td>\n",
       "      <td>2822792</td>\n",
       "      <td>NaN</td>\n",
       "      <td>NaN</td>\n",
       "      <td>NaN</td>\n",
       "      <td>NaN</td>\n",
       "      <td>...</td>\n",
       "      <td>0</td>\n",
       "      <td>NON_RECIPROCAL</td>\n",
       "      <td>Home</td>\n",
       "      <td>primary</td>\n",
       "      <td>6.0</td>\n",
       "      <td>FRA</td>\n",
       "      <td>Centre-Val De Loire</td>\n",
       "      <td>Loir-Et-Cher</td>\n",
       "      <td>Blois</td>\n",
       "      <td>6.0</td>\n",
       "    </tr>\n",
       "    <tr>\n",
       "      <th>4</th>\n",
       "      <td>38553219</td>\n",
       "      <td>60287269</td>\n",
       "      <td>2020-09-14</td>\n",
       "      <td>3055374</td>\n",
       "      <td>3055374</td>\n",
       "      <td>3243667</td>\n",
       "      <td>2020-09-15 12:12:35 UTC</td>\n",
       "      <td>NaN</td>\n",
       "      <td>2020-09-18</td>\n",
       "      <td>2020-09-20</td>\n",
       "      <td>...</td>\n",
       "      <td>2</td>\n",
       "      <td>NON_RECIPROCAL</td>\n",
       "      <td>Home</td>\n",
       "      <td>primary</td>\n",
       "      <td>6.0</td>\n",
       "      <td>FRA</td>\n",
       "      <td>Centre-Val De Loire</td>\n",
       "      <td>Loir-Et-Cher</td>\n",
       "      <td>Mont-Prés-Chambord</td>\n",
       "      <td>1.0</td>\n",
       "    </tr>\n",
       "  </tbody>\n",
       "</table>\n",
       "<p>5 rows × 21 columns</p>\n",
       "</div>"
      ],
      "text/plain": [
       "   conversation_id  exchange_id  created_at  creator_id  guest_user_id  \\\n",
       "0         41311972     63399698  2021-08-22      389898         389898   \n",
       "1         43121577     65438439  2022-02-06     2191577        2191577   \n",
       "2         38156044     59856100  2020-07-17     2207335        2207335   \n",
       "3         34141158     55536249  2019-08-02      450515         450515   \n",
       "4         38553219     60287269  2020-09-14     3055374        3055374   \n",
       "\n",
       "   host_user_id             finalized_at canceled_at    start_on      end_on  \\\n",
       "0       3277768                      NaN         NaN         NaN         NaN   \n",
       "1       3609949                      NaN         NaN         NaN         NaN   \n",
       "2       3537414                      NaN         NaN  2020-07-27  2020-08-02   \n",
       "3       2822792                      NaN         NaN         NaN         NaN   \n",
       "4       3243667  2020-09-15 12:12:35 UTC         NaN  2020-09-18  2020-09-20   \n",
       "\n",
       "   ...  night_count   exchange_type  home_type residence_type capacity  \\\n",
       "0  ...            0  NON_RECIPROCAL       Home        primary      2.0   \n",
       "1  ...            0  NON_RECIPROCAL  apartment      secondary      6.0   \n",
       "2  ...            6  NON_RECIPROCAL  apartment      secondary      4.0   \n",
       "3  ...            0  NON_RECIPROCAL       Home        primary      6.0   \n",
       "4  ...            2  NON_RECIPROCAL       Home        primary      6.0   \n",
       "\n",
       "   country               region    department                city  \\\n",
       "0      NLD            Groningue  Het Hogeland         Onderdendam   \n",
       "1      ESP         Les Asturies  Les Asturies              Avilés   \n",
       "2      ESP         Les Asturies  Les Asturies      Cangas de Onís   \n",
       "3      FRA  Centre-Val De Loire  Loir-Et-Cher               Blois   \n",
       "4      FRA  Centre-Val De Loire  Loir-Et-Cher  Mont-Prés-Chambord   \n",
       "\n",
       "  diff_capacity  \n",
       "0           2.0  \n",
       "1           3.0  \n",
       "2           0.0  \n",
       "3           6.0  \n",
       "4           1.0  \n",
       "\n",
       "[5 rows x 21 columns]"
      ]
     },
     "execution_count": 48,
     "metadata": {},
     "output_type": "execute_result"
    }
   ],
   "source": [
    "exchanges.head()"
   ]
  },
  {
   "cell_type": "code",
   "execution_count": 47,
   "id": "6615d7b1",
   "metadata": {},
   "outputs": [
    {
     "name": "stdout",
     "output_type": "stream",
     "text": [
      "<class 'pandas.core.frame.DataFrame'>\n",
      "Int64Index: 11969751 entries, 0 to 239074\n",
      "Data columns (total 21 columns):\n",
      " #   Column                  Dtype  \n",
      "---  ------                  -----  \n",
      " 0   conversation_id         int64  \n",
      " 1   exchange_id             int64  \n",
      " 2   created_at              object \n",
      " 3   creator_id              int64  \n",
      " 4   guest_user_id           int64  \n",
      " 5   host_user_id            int64  \n",
      " 6   finalized_at            object \n",
      " 7   canceled_at             object \n",
      " 8   start_on                object \n",
      " 9   end_on                  object \n",
      " 10  guest_countguest_count  int64  \n",
      " 11  night_count             int64  \n",
      " 12  exchange_type           object \n",
      " 13  home_type               object \n",
      " 14  residence_type          object \n",
      " 15  capacity                float64\n",
      " 16  country                 object \n",
      " 17  region                  object \n",
      " 18  department              object \n",
      " 19  city                    object \n",
      " 20  diff_capacity           float64\n",
      "dtypes: float64(2), int64(7), object(12)\n",
      "memory usage: 2.0+ GB\n"
     ]
    }
   ],
   "source": [
    "exchanges.info()"
   ]
  },
  {
   "cell_type": "code",
   "execution_count": 52,
   "id": "837ce7dd",
   "metadata": {},
   "outputs": [
    {
     "ename": "ParserError",
     "evalue": "Error tokenizing data. C error: Calling read(nbytes) on source failed. Try engine='python'.",
     "output_type": "error",
     "traceback": [
      "\u001b[1;31m---------------------------------------------------------------------------\u001b[0m",
      "\u001b[1;31mParserError\u001b[0m                               Traceback (most recent call last)",
      "Cell \u001b[1;32mIn[52], line 1\u001b[0m\n\u001b[1;32m----> 1\u001b[0m e \u001b[38;5;241m=\u001b[39m \u001b[43mpd\u001b[49m\u001b[38;5;241;43m.\u001b[39;49m\u001b[43mread_csv\u001b[49m\u001b[43m(\u001b[49m\u001b[38;5;124;43mr\u001b[39;49m\u001b[38;5;124;43m\"\u001b[39;49m\u001b[38;5;124;43mC:\u001b[39;49m\u001b[38;5;124;43m\\\u001b[39;49m\u001b[38;5;124;43mUsers\u001b[39;49m\u001b[38;5;124;43m\\\u001b[39;49m\u001b[38;5;124;43mimane\u001b[39;49m\u001b[38;5;124;43m\\\u001b[39;49m\u001b[38;5;124;43mOneDrive\u001b[39;49m\u001b[38;5;124;43m\\\u001b[39;49m\u001b[38;5;124;43mDesktop\u001b[39;49m\u001b[38;5;124;43m\\\u001b[39;49m\u001b[38;5;124;43mhome_exchange\u001b[39;49m\u001b[38;5;124;43m\\\u001b[39;49m\u001b[38;5;124;43mHomeExchange\u001b[39;49m\u001b[38;5;124;43m\\\u001b[39;49m\u001b[38;5;124;43mdata\u001b[39;49m\u001b[38;5;124;43m\\\u001b[39;49m\u001b[38;5;124;43mExchanges_clean.csv\u001b[39;49m\u001b[38;5;124;43m\"\u001b[39;49m\u001b[43m)\u001b[49m\n\u001b[0;32m      2\u001b[0m e\n",
      "File \u001b[1;32m~\\anaconda3\\lib\\site-packages\\pandas\\util\\_decorators.py:211\u001b[0m, in \u001b[0;36mdeprecate_kwarg.<locals>._deprecate_kwarg.<locals>.wrapper\u001b[1;34m(*args, **kwargs)\u001b[0m\n\u001b[0;32m    209\u001b[0m     \u001b[38;5;28;01melse\u001b[39;00m:\n\u001b[0;32m    210\u001b[0m         kwargs[new_arg_name] \u001b[38;5;241m=\u001b[39m new_arg_value\n\u001b[1;32m--> 211\u001b[0m \u001b[38;5;28;01mreturn\u001b[39;00m func(\u001b[38;5;241m*\u001b[39margs, \u001b[38;5;241m*\u001b[39m\u001b[38;5;241m*\u001b[39mkwargs)\n",
      "File \u001b[1;32m~\\anaconda3\\lib\\site-packages\\pandas\\util\\_decorators.py:331\u001b[0m, in \u001b[0;36mdeprecate_nonkeyword_arguments.<locals>.decorate.<locals>.wrapper\u001b[1;34m(*args, **kwargs)\u001b[0m\n\u001b[0;32m    325\u001b[0m \u001b[38;5;28;01mif\u001b[39;00m \u001b[38;5;28mlen\u001b[39m(args) \u001b[38;5;241m>\u001b[39m num_allow_args:\n\u001b[0;32m    326\u001b[0m     warnings\u001b[38;5;241m.\u001b[39mwarn(\n\u001b[0;32m    327\u001b[0m         msg\u001b[38;5;241m.\u001b[39mformat(arguments\u001b[38;5;241m=\u001b[39m_format_argument_list(allow_args)),\n\u001b[0;32m    328\u001b[0m         \u001b[38;5;167;01mFutureWarning\u001b[39;00m,\n\u001b[0;32m    329\u001b[0m         stacklevel\u001b[38;5;241m=\u001b[39mfind_stack_level(),\n\u001b[0;32m    330\u001b[0m     )\n\u001b[1;32m--> 331\u001b[0m \u001b[38;5;28;01mreturn\u001b[39;00m func(\u001b[38;5;241m*\u001b[39margs, \u001b[38;5;241m*\u001b[39m\u001b[38;5;241m*\u001b[39mkwargs)\n",
      "File \u001b[1;32m~\\anaconda3\\lib\\site-packages\\pandas\\io\\parsers\\readers.py:950\u001b[0m, in \u001b[0;36mread_csv\u001b[1;34m(filepath_or_buffer, sep, delimiter, header, names, index_col, usecols, squeeze, prefix, mangle_dupe_cols, dtype, engine, converters, true_values, false_values, skipinitialspace, skiprows, skipfooter, nrows, na_values, keep_default_na, na_filter, verbose, skip_blank_lines, parse_dates, infer_datetime_format, keep_date_col, date_parser, dayfirst, cache_dates, iterator, chunksize, compression, thousands, decimal, lineterminator, quotechar, quoting, doublequote, escapechar, comment, encoding, encoding_errors, dialect, error_bad_lines, warn_bad_lines, on_bad_lines, delim_whitespace, low_memory, memory_map, float_precision, storage_options)\u001b[0m\n\u001b[0;32m    935\u001b[0m kwds_defaults \u001b[38;5;241m=\u001b[39m _refine_defaults_read(\n\u001b[0;32m    936\u001b[0m     dialect,\n\u001b[0;32m    937\u001b[0m     delimiter,\n\u001b[1;32m   (...)\u001b[0m\n\u001b[0;32m    946\u001b[0m     defaults\u001b[38;5;241m=\u001b[39m{\u001b[38;5;124m\"\u001b[39m\u001b[38;5;124mdelimiter\u001b[39m\u001b[38;5;124m\"\u001b[39m: \u001b[38;5;124m\"\u001b[39m\u001b[38;5;124m,\u001b[39m\u001b[38;5;124m\"\u001b[39m},\n\u001b[0;32m    947\u001b[0m )\n\u001b[0;32m    948\u001b[0m kwds\u001b[38;5;241m.\u001b[39mupdate(kwds_defaults)\n\u001b[1;32m--> 950\u001b[0m \u001b[38;5;28;01mreturn\u001b[39;00m \u001b[43m_read\u001b[49m\u001b[43m(\u001b[49m\u001b[43mfilepath_or_buffer\u001b[49m\u001b[43m,\u001b[49m\u001b[43m \u001b[49m\u001b[43mkwds\u001b[49m\u001b[43m)\u001b[49m\n",
      "File \u001b[1;32m~\\anaconda3\\lib\\site-packages\\pandas\\io\\parsers\\readers.py:611\u001b[0m, in \u001b[0;36m_read\u001b[1;34m(filepath_or_buffer, kwds)\u001b[0m\n\u001b[0;32m    608\u001b[0m     \u001b[38;5;28;01mreturn\u001b[39;00m parser\n\u001b[0;32m    610\u001b[0m \u001b[38;5;28;01mwith\u001b[39;00m parser:\n\u001b[1;32m--> 611\u001b[0m     \u001b[38;5;28;01mreturn\u001b[39;00m \u001b[43mparser\u001b[49m\u001b[38;5;241;43m.\u001b[39;49m\u001b[43mread\u001b[49m\u001b[43m(\u001b[49m\u001b[43mnrows\u001b[49m\u001b[43m)\u001b[49m\n",
      "File \u001b[1;32m~\\anaconda3\\lib\\site-packages\\pandas\\io\\parsers\\readers.py:1778\u001b[0m, in \u001b[0;36mTextFileReader.read\u001b[1;34m(self, nrows)\u001b[0m\n\u001b[0;32m   1771\u001b[0m nrows \u001b[38;5;241m=\u001b[39m validate_integer(\u001b[38;5;124m\"\u001b[39m\u001b[38;5;124mnrows\u001b[39m\u001b[38;5;124m\"\u001b[39m, nrows)\n\u001b[0;32m   1772\u001b[0m \u001b[38;5;28;01mtry\u001b[39;00m:\n\u001b[0;32m   1773\u001b[0m     \u001b[38;5;66;03m# error: \"ParserBase\" has no attribute \"read\"\u001b[39;00m\n\u001b[0;32m   1774\u001b[0m     (\n\u001b[0;32m   1775\u001b[0m         index,\n\u001b[0;32m   1776\u001b[0m         columns,\n\u001b[0;32m   1777\u001b[0m         col_dict,\n\u001b[1;32m-> 1778\u001b[0m     ) \u001b[38;5;241m=\u001b[39m \u001b[38;5;28;43mself\u001b[39;49m\u001b[38;5;241;43m.\u001b[39;49m\u001b[43m_engine\u001b[49m\u001b[38;5;241;43m.\u001b[39;49m\u001b[43mread\u001b[49m\u001b[43m(\u001b[49m\u001b[43m  \u001b[49m\u001b[38;5;66;43;03m# type: ignore[attr-defined]\u001b[39;49;00m\n\u001b[0;32m   1779\u001b[0m \u001b[43m        \u001b[49m\u001b[43mnrows\u001b[49m\n\u001b[0;32m   1780\u001b[0m \u001b[43m    \u001b[49m\u001b[43m)\u001b[49m\n\u001b[0;32m   1781\u001b[0m \u001b[38;5;28;01mexcept\u001b[39;00m \u001b[38;5;167;01mException\u001b[39;00m:\n\u001b[0;32m   1782\u001b[0m     \u001b[38;5;28mself\u001b[39m\u001b[38;5;241m.\u001b[39mclose()\n",
      "File \u001b[1;32m~\\anaconda3\\lib\\site-packages\\pandas\\io\\parsers\\c_parser_wrapper.py:230\u001b[0m, in \u001b[0;36mCParserWrapper.read\u001b[1;34m(self, nrows)\u001b[0m\n\u001b[0;32m    228\u001b[0m \u001b[38;5;28;01mtry\u001b[39;00m:\n\u001b[0;32m    229\u001b[0m     \u001b[38;5;28;01mif\u001b[39;00m \u001b[38;5;28mself\u001b[39m\u001b[38;5;241m.\u001b[39mlow_memory:\n\u001b[1;32m--> 230\u001b[0m         chunks \u001b[38;5;241m=\u001b[39m \u001b[38;5;28;43mself\u001b[39;49m\u001b[38;5;241;43m.\u001b[39;49m\u001b[43m_reader\u001b[49m\u001b[38;5;241;43m.\u001b[39;49m\u001b[43mread_low_memory\u001b[49m\u001b[43m(\u001b[49m\u001b[43mnrows\u001b[49m\u001b[43m)\u001b[49m\n\u001b[0;32m    231\u001b[0m         \u001b[38;5;66;03m# destructive to chunks\u001b[39;00m\n\u001b[0;32m    232\u001b[0m         data \u001b[38;5;241m=\u001b[39m _concatenate_chunks(chunks)\n",
      "File \u001b[1;32m~\\anaconda3\\lib\\site-packages\\pandas\\_libs\\parsers.pyx:808\u001b[0m, in \u001b[0;36mpandas._libs.parsers.TextReader.read_low_memory\u001b[1;34m()\u001b[0m\n",
      "File \u001b[1;32m~\\anaconda3\\lib\\site-packages\\pandas\\_libs\\parsers.pyx:866\u001b[0m, in \u001b[0;36mpandas._libs.parsers.TextReader._read_rows\u001b[1;34m()\u001b[0m\n",
      "File \u001b[1;32m~\\anaconda3\\lib\\site-packages\\pandas\\_libs\\parsers.pyx:852\u001b[0m, in \u001b[0;36mpandas._libs.parsers.TextReader._tokenize_rows\u001b[1;34m()\u001b[0m\n",
      "File \u001b[1;32m~\\anaconda3\\lib\\site-packages\\pandas\\_libs\\parsers.pyx:1973\u001b[0m, in \u001b[0;36mpandas._libs.parsers.raise_parser_error\u001b[1;34m()\u001b[0m\n",
      "\u001b[1;31mParserError\u001b[0m: Error tokenizing data. C error: Calling read(nbytes) on source failed. Try engine='python'."
     ]
    }
   ],
   "source": [
    "e = pd.read_csv(r\"C:\\Users\\imane\\OneDrive\\Desktop\\home_exchange\\HomeExchange\\data\\Exchanges_clean.csv\")\n",
    "e"
   ]
  },
  {
   "cell_type": "code",
   "execution_count": null,
   "id": "53f445ec",
   "metadata": {},
   "outputs": [],
   "source": []
  }
 ],
 "metadata": {
  "kernelspec": {
   "display_name": "Python 3 (ipykernel)",
   "language": "python",
   "name": "python3"
  },
  "language_info": {
   "codemirror_mode": {
    "name": "ipython",
    "version": 3
   },
   "file_extension": ".py",
   "mimetype": "text/x-python",
   "name": "python",
   "nbconvert_exporter": "python",
   "pygments_lexer": "ipython3",
   "version": "3.10.9"
  }
 },
 "nbformat": 4,
 "nbformat_minor": 5
}
